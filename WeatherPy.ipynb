{
 "cells": [
  {
   "cell_type": "markdown",
   "metadata": {},
   "source": [
    "# WeatherPy\n",
    "----\n",
    "\n",
    "#### Note\n",
    "* Instructions have been included for each segment. You do not have to follow them exactly, but they are included to help you think through the steps."
   ]
  },
  {
   "cell_type": "code",
   "execution_count": 1,
   "metadata": {
    "scrolled": true
   },
   "outputs": [],
   "source": [
    "# Dependencies and Setup\n",
    "import matplotlib.pyplot as plt\n",
    "import pandas as pd\n",
    "import numpy as np\n",
    "import requests\n",
    "import time\n",
    "from scipy.stats import linregress\n",
    "import json\n",
    "from colorama import Fore, Back, Style \n",
    "\n",
    "# Import API key\n",
    "from api_keys import weather_api_key\n",
    "\n",
    "# Incorporated citipy to determine city based on latitude and longitude\n",
    "from citipy import citipy\n",
    "\n",
    "# Output File (CSV)\n",
    "output_data_file = \"output_data/cities.csv\"\n",
    "\n",
    "# Range of latitudes and longitudes\n",
    "lat_range = (-90, 90)\n",
    "lng_range = (-180, 180)\n"
   ]
  },
  {
   "cell_type": "markdown",
   "metadata": {},
   "source": [
    "## Generate Cities List"
   ]
  },
  {
   "cell_type": "code",
   "execution_count": 2,
   "metadata": {},
   "outputs": [
    {
     "data": {
      "text/plain": [
       "628"
      ]
     },
     "execution_count": 2,
     "metadata": {},
     "output_type": "execute_result"
    }
   ],
   "source": [
    "# List for holding lat_lngs and cities\n",
    "lat_lngs = []\n",
    "cities = []\n",
    "\n",
    "# Create a set of random lat and lng combinations\n",
    "lats = np.random.uniform(lat_range[0], lat_range[1], size=1500)\n",
    "lngs = np.random.uniform(lng_range[0], lng_range[1], size=1500)\n",
    "lat_lngs = zip(lats, lngs)\n",
    "\n",
    "# Identify nearest city for each lat, lng combination\n",
    "for lat_lng in lat_lngs:\n",
    "    city = citipy.nearest_city(lat_lng[0], lat_lng[1]).city_name\n",
    "    \n",
    "    # If the city is unique, then add it to a our cities list\n",
    "    if city not in cities:\n",
    "        cities.append(city)\n",
    "\n",
    "# Print the city count to confirm sufficient count\n",
    "pd.DataFrame(cities).to_csv('Main_Cities.csv')\n",
    "\n",
    "len(cities)\n"
   ]
  },
  {
   "cell_type": "code",
   "execution_count": 5,
   "metadata": {},
   "outputs": [
    {
     "name": "stdout",
     "output_type": "stream",
     "text": [
      "------------------\n",
      "Start of Recording\n",
      "------------------\n",
      "City Number 1 complete (1of628): \u001b[32m  port alfred \u001b[0m\n",
      "City Number 2 complete (2of628): \u001b[32m  yatou \u001b[0m\n",
      "City Number 3 complete (3of628): \u001b[32m  guerrero negro \u001b[0m\n",
      "City Number 4 complete (4of628): \u001b[32m  ushuaia \u001b[0m\n",
      "City Number 5 complete (5of628): \u001b[32m  albany \u001b[0m\n",
      "City Number 6 complete (6of628): \u001b[32m  souillac \u001b[0m\n",
      "City Number 7 complete (7of628): \u001b[32m  mareeba \u001b[0m\n",
      "City Number 8 complete (8of628): \u001b[32m  torbay \u001b[0m\n",
      "City Number 9 complete (9of628): \u001b[32m  nichlaul \u001b[0m\n",
      "City Number 10 complete (10of628): \u001b[32m  barra do corda \u001b[0m\n",
      "City Number 11 complete (11of628): \u001b[32m  hithadhoo \u001b[0m\n",
      "\u001b[31mMissing data for City number 12:-->  belushya guba\u001b[0m\n",
      "City Number 13 complete (13of628): \u001b[32m  mataura \u001b[0m\n",
      "City Number 14 complete (14of628): \u001b[32m  caravelas \u001b[0m\n",
      "City Number 15 complete (15of628): \u001b[32m  hofn \u001b[0m\n",
      "City Number 16 complete (16of628): \u001b[32m  new norfolk \u001b[0m\n",
      "City Number 17 complete (17of628): \u001b[32m  caramay \u001b[0m\n",
      "City Number 18 complete (18of628): \u001b[32m  sitka \u001b[0m\n",
      "City Number 19 complete (19of628): \u001b[32m  barrow \u001b[0m\n",
      "City Number 20 complete (20of628): \u001b[32m  kapaa \u001b[0m\n",
      "City Number 21 complete (21of628): \u001b[32m  qaanaaq \u001b[0m\n",
      "City Number 22 complete (22of628): \u001b[32m  arraial do cabo \u001b[0m\n",
      "City Number 23 complete (23of628): \u001b[32m  lapua \u001b[0m\n",
      "City Number 24 complete (24of628): \u001b[32m  hobart \u001b[0m\n",
      "City Number 25 complete (25of628): \u001b[32m  pictou \u001b[0m\n",
      "City Number 26 complete (26of628): \u001b[32m  bubaque \u001b[0m\n",
      "City Number 27 complete (27of628): \u001b[32m  bentiu \u001b[0m\n",
      "City Number 28 complete (28of628): \u001b[32m  narsaq \u001b[0m\n",
      "City Number 29 complete (29of628): \u001b[32m  punta arenas \u001b[0m\n",
      "City Number 30 complete (30of628): \u001b[32m  werder \u001b[0m\n",
      "\u001b[31mMissing data for City number 31:-->  illoqqortoormiut\u001b[0m\n",
      "City Number 32 complete (32of628): \u001b[32m  tura \u001b[0m\n",
      "City Number 33 complete (33of628): \u001b[32m  nador \u001b[0m\n",
      "\u001b[31mMissing data for City number 34:-->  buqayq\u001b[0m\n",
      "City Number 35 complete (35of628): \u001b[32m  cape town \u001b[0m\n",
      "City Number 36 complete (36of628): \u001b[32m  kaitangata \u001b[0m\n",
      "City Number 37 complete (37of628): \u001b[32m  ucluelet \u001b[0m\n",
      "City Number 38 complete (38of628): \u001b[32m  hutang \u001b[0m\n",
      "City Number 39 complete (39of628): \u001b[32m  rikitea \u001b[0m\n",
      "\u001b[31mMissing data for City number 40:-->  taolanaro\u001b[0m\n",
      "City Number 41 complete (41of628): \u001b[32m  castro \u001b[0m\n",
      "City Number 42 complete (42of628): \u001b[32m  jamestown \u001b[0m\n",
      "City Number 43 complete (43of628): \u001b[32m  rocha \u001b[0m\n",
      "City Number 44 complete (44of628): \u001b[32m  busselton \u001b[0m\n",
      "City Number 45 complete (45of628): \u001b[32m  verkhoyansk \u001b[0m\n",
      "City Number 46 complete (46of628): \u001b[32m  alta floresta \u001b[0m\n",
      "City Number 47 complete (47of628): \u001b[32m  kodiak \u001b[0m\n",
      "City Number 48 complete (48of628): \u001b[32m  dingle \u001b[0m\n",
      "City Number 49 complete (49of628): \u001b[32m  mar del plata \u001b[0m\n",
      "City Number 50 complete (50of628): \u001b[32m  batagay-alyta \u001b[0m\n",
      "City Number 51 complete (51of628): \u001b[32m  hermanus \u001b[0m\n",
      "City Number 52 complete (52of628): \u001b[32m  beringovskiy \u001b[0m\n",
      "City Number 53 complete (53of628): \u001b[32m  vaini \u001b[0m\n",
      "City Number 54 complete (54of628): \u001b[32m  north platte \u001b[0m\n",
      "City Number 55 complete (55of628): \u001b[32m  de panne \u001b[0m\n",
      "City Number 56 complete (56of628): \u001b[32m  olafsvik \u001b[0m\n",
      "City Number 57 complete (57of628): \u001b[32m  goderich \u001b[0m\n",
      "City Number 58 complete (58of628): \u001b[32m  yellowknife \u001b[0m\n",
      "City Number 59 complete (59of628): \u001b[32m  la grande \u001b[0m\n",
      "City Number 60 complete (60of628): \u001b[32m  lata \u001b[0m\n",
      "City Number 61 complete (61of628): \u001b[32m  longonjo \u001b[0m\n",
      "City Number 62 complete (62of628): \u001b[32m  butaritari \u001b[0m\n",
      "City Number 63 complete (63of628): \u001b[32m  makakilo city \u001b[0m\n",
      "City Number 64 complete (64of628): \u001b[32m  thompson \u001b[0m\n",
      "City Number 65 complete (65of628): \u001b[32m  bethel \u001b[0m\n",
      "\u001b[31mMissing data for City number 66:-->  mys shmidta\u001b[0m\n",
      "City Number 67 complete (67of628): \u001b[32m  coahuayana \u001b[0m\n",
      "City Number 68 complete (68of628): \u001b[32m  diego de almagro \u001b[0m\n",
      "City Number 69 complete (69of628): \u001b[32m  puerto ayora \u001b[0m\n",
      "City Number 70 complete (70of628): \u001b[32m  bluff \u001b[0m\n",
      "City Number 71 complete (71of628): \u001b[32m  harwich \u001b[0m\n",
      "City Number 72 complete (72of628): \u001b[32m  moville \u001b[0m\n",
      "City Number 73 complete (73of628): \u001b[32m  maltahohe \u001b[0m\n",
      "City Number 74 complete (74of628): \u001b[32m  ugoofaaru \u001b[0m\n",
      "City Number 75 complete (75of628): \u001b[32m  fortuna \u001b[0m\n",
      "City Number 76 complete (76of628): \u001b[32m  bredasdorp \u001b[0m\n",
      "City Number 77 complete (77of628): \u001b[32m  masuguru \u001b[0m\n",
      "City Number 78 complete (78of628): \u001b[32m  buraydah \u001b[0m\n",
      "City Number 79 complete (79of628): \u001b[32m  longyearbyen \u001b[0m\n",
      "City Number 80 complete (80of628): \u001b[32m  coite do noia \u001b[0m\n",
      "City Number 81 complete (81of628): \u001b[32m  richards bay \u001b[0m\n",
      "\u001b[31mMissing data for City number 82:-->  tabukiniberu\u001b[0m\n",
      "City Number 83 complete (83of628): \u001b[32m  balkanabat \u001b[0m\n",
      "City Number 84 complete (84of628): \u001b[32m  east london \u001b[0m\n",
      "City Number 85 complete (85of628): \u001b[32m  sao filipe \u001b[0m\n",
      "\u001b[31mMissing data for City number 86:-->  samalaeulu\u001b[0m\n",
      "City Number 87 complete (87of628): \u001b[32m  lebowakgomo \u001b[0m\n",
      "\u001b[31mMissing data for City number 88:-->  stoyba\u001b[0m\n",
      "City Number 89 complete (89of628): \u001b[32m  lebu \u001b[0m\n",
      "City Number 90 complete (90of628): \u001b[32m  cumberland \u001b[0m\n",
      "City Number 91 complete (91of628): \u001b[32m  saint-philippe \u001b[0m\n",
      "City Number 92 complete (92of628): \u001b[32m  pevek \u001b[0m\n",
      "City Number 93 complete (93of628): \u001b[32m  mamallapuram \u001b[0m\n",
      "City Number 94 complete (94of628): \u001b[32m  victoria \u001b[0m\n",
      "City Number 95 complete (95of628): \u001b[32m  west helena \u001b[0m\n",
      "City Number 96 complete (96of628): \u001b[32m  tasiilaq \u001b[0m\n",
      "City Number 97 complete (97of628): \u001b[32m  haines junction \u001b[0m\n",
      "City Number 98 complete (98of628): \u001b[32m  bonavista \u001b[0m\n",
      "City Number 99 complete (99of628): \u001b[32m  gorom-gorom \u001b[0m\n",
      "City Number 100 complete (100of628): \u001b[32m  filingue \u001b[0m\n",
      "City Number 101 complete (101of628): \u001b[32m  alice springs \u001b[0m\n",
      "City Number 102 complete (102of628): \u001b[32m  norman wells \u001b[0m\n",
      "City Number 103 complete (103of628): \u001b[32m  wageningen \u001b[0m\n",
      "City Number 104 complete (104of628): \u001b[32m  iqaluit \u001b[0m\n",
      "City Number 105 complete (105of628): \u001b[32m  codrington \u001b[0m\n",
      "City Number 106 complete (106of628): \u001b[32m  hilo \u001b[0m\n",
      "City Number 107 complete (107of628): \u001b[32m  kuryk \u001b[0m\n",
      "\u001b[31mMissing data for City number 108:-->  sentyabrskiy\u001b[0m\n",
      "City Number 109 complete (109of628): \u001b[32m  voh \u001b[0m\n",
      "City Number 110 complete (110of628): \u001b[32m  georgetown \u001b[0m\n",
      "City Number 111 complete (111of628): \u001b[32m  olney \u001b[0m\n",
      "City Number 112 complete (112of628): \u001b[32m  atuona \u001b[0m\n",
      "City Number 113 complete (113of628): \u001b[32m  mahebourg \u001b[0m\n",
      "City Number 114 complete (114of628): \u001b[32m  ancud \u001b[0m\n",
      "City Number 115 complete (115of628): \u001b[32m  cherskiy \u001b[0m\n",
      "City Number 116 complete (116of628): \u001b[32m  saldanha \u001b[0m\n",
      "City Number 117 complete (117of628): \u001b[32m  nanortalik \u001b[0m\n",
      "\u001b[31mMissing data for City number 118:-->  tabiauea\u001b[0m\n",
      "City Number 119 complete (119of628): \u001b[32m  saskylakh \u001b[0m\n",
      "\u001b[31mMissing data for City number 120:-->  chaa-khol\u001b[0m\n",
      "City Number 121 complete (121of628): \u001b[32m  alofi \u001b[0m\n",
      "City Number 122 complete (122of628): \u001b[32m  beihai \u001b[0m\n",
      "City Number 123 complete (123of628): \u001b[32m  port hawkesbury \u001b[0m\n",
      "City Number 124 complete (124of628): \u001b[32m  irawan \u001b[0m\n",
      "City Number 125 complete (125of628): \u001b[32m  shelburne \u001b[0m\n",
      "City Number 126 complete (126of628): \u001b[32m  nikolskoye \u001b[0m\n",
      "City Number 127 complete (127of628): \u001b[32m  cabedelo \u001b[0m\n",
      "City Number 128 complete (128of628): \u001b[32m  puerto narino \u001b[0m\n",
      "City Number 129 complete (129of628): \u001b[32m  vostok \u001b[0m\n",
      "City Number 130 complete (130of628): \u001b[32m  hasaki \u001b[0m\n",
      "City Number 131 complete (131of628): \u001b[32m  gat \u001b[0m\n",
      "City Number 132 complete (132of628): \u001b[32m  erenhot \u001b[0m\n",
      "City Number 133 complete (133of628): \u001b[32m  kavieng \u001b[0m\n",
      "\u001b[31mMissing data for City number 134:-->  nizhneyansk\u001b[0m\n",
      "City Number 135 complete (135of628): \u001b[32m  port elizabeth \u001b[0m\n",
      "City Number 136 complete (136of628): \u001b[32m  sao pedro do sul \u001b[0m\n",
      "City Number 137 complete (137of628): \u001b[32m  tulsipur \u001b[0m\n",
      "City Number 138 complete (138of628): \u001b[32m  beachwood \u001b[0m\n",
      "City Number 139 complete (139of628): \u001b[32m  upernavik \u001b[0m\n",
      "City Number 140 complete (140of628): \u001b[32m  ivankiv \u001b[0m\n",
      "City Number 141 complete (141of628): \u001b[32m  buala \u001b[0m\n",
      "City Number 142 complete (142of628): \u001b[32m  broome \u001b[0m\n",
      "City Number 143 complete (143of628): \u001b[32m  vestmannaeyjar \u001b[0m\n",
      "City Number 144 complete (144of628): \u001b[32m  cravo norte \u001b[0m\n",
      "City Number 145 complete (145of628): \u001b[32m  ribeira grande \u001b[0m\n",
      "City Number 146 complete (146of628): \u001b[32m  namibe \u001b[0m\n",
      "City Number 147 complete (147of628): \u001b[32m  uribia \u001b[0m\n",
      "City Number 148 complete (148of628): \u001b[32m  tuktoyaktuk \u001b[0m\n",
      "City Number 149 complete (149of628): \u001b[32m  palmer \u001b[0m\n",
      "City Number 150 complete (150of628): \u001b[32m  chuy \u001b[0m\n",
      "City Number 151 complete (151of628): \u001b[32m  bengkulu \u001b[0m\n",
      "City Number 152 complete (152of628): \u001b[32m  omboue \u001b[0m\n",
      "City Number 153 complete (153of628): \u001b[32m  shu \u001b[0m\n",
      "City Number 154 complete (154of628): \u001b[32m  varadero \u001b[0m\n",
      "\u001b[31mMissing data for City number 155:-->  tsihombe\u001b[0m\n",
      "City Number 156 complete (156of628): \u001b[32m  emirdag \u001b[0m\n",
      "City Number 157 complete (157of628): \u001b[32m  taoudenni \u001b[0m\n",
      "City Number 158 complete (158of628): \u001b[32m  nouadhibou \u001b[0m\n",
      "City Number 159 complete (159of628): \u001b[32m  malindi \u001b[0m\n",
      "City Number 160 complete (160of628): \u001b[32m  meadow lake \u001b[0m\n",
      "City Number 161 complete (161of628): \u001b[32m  havre-saint-pierre \u001b[0m\n",
      "City Number 162 complete (162of628): \u001b[32m  san policarpo \u001b[0m\n",
      "City Number 163 complete (163of628): \u001b[32m  merrill \u001b[0m\n",
      "City Number 164 complete (164of628): \u001b[32m  burley \u001b[0m\n",
      "City Number 165 complete (165of628): \u001b[32m  asau \u001b[0m\n",
      "\u001b[31mMissing data for City number 166:-->  toliary\u001b[0m\n",
      "City Number 167 complete (167of628): \u001b[32m  luderitz \u001b[0m\n",
      "City Number 168 complete (168of628): \u001b[32m  chokurdakh \u001b[0m\n",
      "City Number 169 complete (169of628): \u001b[32m  vardo \u001b[0m\n",
      "City Number 170 complete (170of628): \u001b[32m  shimoda \u001b[0m\n",
      "City Number 171 complete (171of628): \u001b[32m  gonzaga \u001b[0m\n",
      "City Number 172 complete (172of628): \u001b[32m  carnarvon \u001b[0m\n",
      "City Number 173 complete (173of628): \u001b[32m  kamaishi \u001b[0m\n",
      "City Number 174 complete (174of628): \u001b[32m  pleshanovo \u001b[0m\n",
      "City Number 175 complete (175of628): \u001b[32m  dimovo \u001b[0m\n",
      "City Number 176 complete (176of628): \u001b[32m  ambam \u001b[0m\n",
      "City Number 177 complete (177of628): \u001b[32m  sobradinho \u001b[0m\n",
      "City Number 178 complete (178of628): \u001b[32m  argentan \u001b[0m\n",
      "City Number 179 complete (179of628): \u001b[32m  provideniya \u001b[0m\n",
      "City Number 180 complete (180of628): \u001b[32m  ridgeland \u001b[0m\n",
      "City Number 181 complete (181of628): \u001b[32m  jaguaruna \u001b[0m\n",
      "City Number 182 complete (182of628): \u001b[32m  khalkhal \u001b[0m\n",
      "City Number 183 complete (183of628): \u001b[32m  raga \u001b[0m\n",
      "City Number 184 complete (184of628): \u001b[32m  fukue \u001b[0m\n",
      "City Number 185 complete (185of628): \u001b[32m  srednekolymsk \u001b[0m\n",
      "City Number 186 complete (186of628): \u001b[32m  jaguaribe \u001b[0m\n",
      "City Number 187 complete (187of628): \u001b[32m  mercedes \u001b[0m\n",
      "City Number 188 complete (188of628): \u001b[32m  lavrentiya \u001b[0m\n",
      "City Number 189 complete (189of628): \u001b[32m  katsuura \u001b[0m\n",
      "City Number 190 complete (190of628): \u001b[32m  bandarban \u001b[0m\n",
      "\u001b[31mMissing data for City number 191:-->  marcona\u001b[0m\n",
      "City Number 192 complete (192of628): \u001b[32m  phalaborwa \u001b[0m\n",
      "\u001b[31mMissing data for City number 193:-->  karamea\u001b[0m\n",
      "City Number 194 complete (194of628): \u001b[32m  tessalit \u001b[0m\n",
      "City Number 195 complete (195of628): \u001b[32m  cullinan \u001b[0m\n",
      "City Number 196 complete (196of628): \u001b[32m  vila velha \u001b[0m\n",
      "City Number 197 complete (197of628): \u001b[32m  vigeland \u001b[0m\n",
      "City Number 198 complete (198of628): \u001b[32m  prince george \u001b[0m\n",
      "City Number 199 complete (199of628): \u001b[32m  novobiryusinskiy \u001b[0m\n",
      "City Number 200 complete (200of628): \u001b[32m  fairbanks \u001b[0m\n",
      "City Number 201 complete (201of628): \u001b[32m  cisneros \u001b[0m\n",
      "City Number 202 complete (202of628): \u001b[32m  angul \u001b[0m\n",
      "City Number 203 complete (203of628): \u001b[32m  iskateley \u001b[0m\n",
      "City Number 204 complete (204of628): \u001b[32m  esperance \u001b[0m\n",
      "City Number 205 complete (205of628): \u001b[32m  agde \u001b[0m\n",
      "City Number 206 complete (206of628): \u001b[32m  shache \u001b[0m\n",
      "City Number 207 complete (207of628): \u001b[32m  perth \u001b[0m\n",
      "City Number 208 complete (208of628): \u001b[32m  alpena \u001b[0m\n",
      "\u001b[31mMissing data for City number 209:-->  ye\u001b[0m\n",
      "City Number 210 complete (210of628): \u001b[32m  tommot \u001b[0m\n",
      "City Number 211 complete (211of628): \u001b[32m  henties bay \u001b[0m\n",
      "City Number 212 complete (212of628): \u001b[32m  fasa \u001b[0m\n",
      "City Number 213 complete (213of628): \u001b[32m  komsomolets \u001b[0m\n",
      "City Number 214 complete (214of628): \u001b[32m  lorengau \u001b[0m\n",
      "City Number 215 complete (215of628): \u001b[32m  hangu \u001b[0m\n",
      "City Number 216 complete (216of628): \u001b[32m  nanfeng \u001b[0m\n",
      "City Number 217 complete (217of628): \u001b[32m  airai \u001b[0m\n",
      "City Number 218 complete (218of628): \u001b[32m  ahuimanu \u001b[0m\n",
      "City Number 219 complete (219of628): \u001b[32m  aklavik \u001b[0m\n",
      "City Number 220 complete (220of628): \u001b[32m  modakeke \u001b[0m\n",
      "City Number 221 complete (221of628): \u001b[32m  lakes entrance \u001b[0m\n",
      "City Number 222 complete (222of628): \u001b[32m  westport \u001b[0m\n",
      "\u001b[31mMissing data for City number 223:-->  amderma\u001b[0m\n",
      "City Number 224 complete (224of628): \u001b[32m  salalah \u001b[0m\n",
      "City Number 225 complete (225of628): \u001b[32m  klaksvik \u001b[0m\n",
      "City Number 226 complete (226of628): \u001b[32m  solok \u001b[0m\n",
      "City Number 227 complete (227of628): \u001b[32m  honiara \u001b[0m\n",
      "City Number 228 complete (228of628): \u001b[32m  whitehorse \u001b[0m\n",
      "City Number 229 complete (229of628): \u001b[32m  egvekinot \u001b[0m\n",
      "City Number 230 complete (230of628): \u001b[32m  auki \u001b[0m\n",
      "City Number 231 complete (231of628): \u001b[32m  abai \u001b[0m\n",
      "City Number 232 complete (232of628): \u001b[32m  wau \u001b[0m\n",
      "City Number 233 complete (233of628): \u001b[32m  huarmey \u001b[0m\n",
      "City Number 234 complete (234of628): \u001b[32m  jinji \u001b[0m\n",
      "City Number 235 complete (235of628): \u001b[32m  lasa \u001b[0m\n",
      "City Number 236 complete (236of628): \u001b[32m  marica \u001b[0m\n",
      "City Number 237 complete (237of628): \u001b[32m  deputatskiy \u001b[0m\n",
      "City Number 238 complete (238of628): \u001b[32m  rio gallegos \u001b[0m\n",
      "\u001b[31mMissing data for City number 239:-->  kuche\u001b[0m\n",
      "City Number 240 complete (240of628): \u001b[32m  khatanga \u001b[0m\n",
      "City Number 241 complete (241of628): \u001b[32m  leningradskiy \u001b[0m\n",
      "City Number 242 complete (242of628): \u001b[32m  cockburn town \u001b[0m\n",
      "City Number 243 complete (243of628): \u001b[32m  vestmanna \u001b[0m\n",
      "City Number 244 complete (244of628): \u001b[32m  pangnirtung \u001b[0m\n",
      "City Number 245 complete (245of628): \u001b[32m  zhanaozen \u001b[0m\n",
      "City Number 246 complete (246of628): \u001b[32m  ilulissat \u001b[0m\n",
      "City Number 247 complete (247of628): \u001b[32m  faanui \u001b[0m\n",
      "City Number 248 complete (248of628): \u001b[32m  santa marta \u001b[0m\n",
      "City Number 249 complete (249of628): \u001b[32m  clearwater \u001b[0m\n",
      "City Number 250 complete (250of628): \u001b[32m  port hardy \u001b[0m\n",
      "\u001b[31mMissing data for City number 251:-->  chagda\u001b[0m\n",
      "City Number 252 complete (252of628): \u001b[32m  pisco \u001b[0m\n",
      "City Number 253 complete (253of628): \u001b[32m  northam \u001b[0m\n",
      "City Number 254 complete (254of628): \u001b[32m  baoqing \u001b[0m\n",
      "City Number 255 complete (255of628): \u001b[32m  sao jose da coroa grande \u001b[0m\n",
      "City Number 256 complete (256of628): \u001b[32m  vila \u001b[0m\n",
      "City Number 257 complete (257of628): \u001b[32m  thongwa \u001b[0m\n",
      "City Number 258 complete (258of628): \u001b[32m  paamiut \u001b[0m\n",
      "City Number 259 complete (259of628): \u001b[32m  telsiai \u001b[0m\n",
      "City Number 260 complete (260of628): \u001b[32m  itirucu \u001b[0m\n",
      "City Number 261 complete (261of628): \u001b[32m  guiratinga \u001b[0m\n",
      "City Number 262 complete (262of628): \u001b[32m  taksimo \u001b[0m\n",
      "City Number 263 complete (263of628): \u001b[32m  belyy yar \u001b[0m\n",
      "City Number 264 complete (264of628): \u001b[32m  te anau \u001b[0m\n",
      "City Number 265 complete (265of628): \u001b[32m  dehui \u001b[0m\n",
      "City Number 266 complete (266of628): \u001b[32m  hamilton \u001b[0m\n",
      "City Number 267 complete (267of628): \u001b[32m  dikson \u001b[0m\n",
      "City Number 268 complete (268of628): \u001b[32m  ostrovnoy \u001b[0m\n",
      "City Number 269 complete (269of628): \u001b[32m  rochegda \u001b[0m\n",
      "City Number 270 complete (270of628): \u001b[32m  meulaboh \u001b[0m\n",
      "City Number 271 complete (271of628): \u001b[32m  tautira \u001b[0m\n",
      "City Number 272 complete (272of628): \u001b[32m  msanga \u001b[0m\n",
      "City Number 273 complete (273of628): \u001b[32m  waingapu \u001b[0m\n",
      "City Number 274 complete (274of628): \u001b[32m  navalmoral de la mata \u001b[0m\n",
      "City Number 275 complete (275of628): \u001b[32m  nuuk \u001b[0m\n",
      "City Number 276 complete (276of628): \u001b[32m  orumiyeh \u001b[0m\n",
      "City Number 277 complete (277of628): \u001b[32m  saint-georges \u001b[0m\n",
      "City Number 278 complete (278of628): \u001b[32m  roald \u001b[0m\n",
      "City Number 279 complete (279of628): \u001b[32m  port pirie \u001b[0m\n",
      "City Number 280 complete (280of628): \u001b[32m  ambon \u001b[0m\n",
      "City Number 281 complete (281of628): \u001b[32m  iwanai \u001b[0m\n",
      "City Number 282 complete (282of628): \u001b[32m  yaval \u001b[0m\n",
      "City Number 283 complete (283of628): \u001b[32m  tiksi \u001b[0m\n",
      "City Number 284 complete (284of628): \u001b[32m  villa de cura \u001b[0m\n",
      "City Number 285 complete (285of628): \u001b[32m  laguna \u001b[0m\n",
      "City Number 286 complete (286of628): \u001b[32m  montepuez \u001b[0m\n",
      "City Number 287 complete (287of628): \u001b[32m  bathsheba \u001b[0m\n",
      "\u001b[31mMissing data for City number 288:-->  abu jubayhah\u001b[0m\n",
      "City Number 289 complete (289of628): \u001b[32m  qaqortoq \u001b[0m\n",
      "City Number 290 complete (290of628): \u001b[32m  kruisfontein \u001b[0m\n",
      "City Number 291 complete (291of628): \u001b[32m  akyab \u001b[0m\n",
      "City Number 292 complete (292of628): \u001b[32m  mehamn \u001b[0m\n",
      "City Number 293 complete (293of628): \u001b[32m  coihaique \u001b[0m\n",
      "City Number 294 complete (294of628): \u001b[32m  bolobo \u001b[0m\n",
      "City Number 295 complete (295of628): \u001b[32m  komsomolskiy \u001b[0m\n",
      "City Number 296 complete (296of628): \u001b[32m  sinnamary \u001b[0m\n",
      "\u001b[31mMissing data for City number 297:-->  tabialan\u001b[0m\n",
      "City Number 298 complete (298of628): \u001b[32m  angoram \u001b[0m\n",
      "City Number 299 complete (299of628): \u001b[32m  hualmay \u001b[0m\n",
      "City Number 300 complete (300of628): \u001b[32m  taraz \u001b[0m\n",
      "City Number 301 complete (301of628): \u001b[32m  malakal \u001b[0m\n",
      "City Number 302 complete (302of628): \u001b[32m  prince rupert \u001b[0m\n",
      "City Number 303 complete (303of628): \u001b[32m  sinegorye \u001b[0m\n",
      "City Number 304 complete (304of628): \u001b[32m  naqadeh \u001b[0m\n",
      "City Number 305 complete (305of628): \u001b[32m  hailar \u001b[0m\n",
      "City Number 306 complete (306of628): \u001b[32m  ushtobe \u001b[0m\n",
      "City Number 307 complete (307of628): \u001b[32m  imbituba \u001b[0m\n",
      "City Number 308 complete (308of628): \u001b[32m  bayji \u001b[0m\n",
      "City Number 309 complete (309of628): \u001b[32m  santa cruz \u001b[0m\n",
      "City Number 310 complete (310of628): \u001b[32m  balikpapan \u001b[0m\n",
      "City Number 311 complete (311of628): \u001b[32m  pacific grove \u001b[0m\n",
      "City Number 312 complete (312of628): \u001b[32m  aswan \u001b[0m\n",
      "City Number 313 complete (313of628): \u001b[32m  homer \u001b[0m\n",
      "City Number 314 complete (314of628): \u001b[32m  cidreira \u001b[0m\n",
      "City Number 315 complete (315of628): \u001b[32m  kodino \u001b[0m\n",
      "City Number 316 complete (316of628): \u001b[32m  normandin \u001b[0m\n",
      "City Number 317 complete (317of628): \u001b[32m  moranbah \u001b[0m\n",
      "City Number 318 complete (318of628): \u001b[32m  kiunga \u001b[0m\n",
      "\u001b[31mMissing data for City number 319:-->  tumannyy\u001b[0m\n",
      "\u001b[31mMissing data for City number 320:-->  satitoa\u001b[0m\n",
      "City Number 321 complete (321of628): \u001b[32m  avarua \u001b[0m\n",
      "City Number 322 complete (322of628): \u001b[32m  omsukchan \u001b[0m\n",
      "City Number 323 complete (323of628): \u001b[32m  hervey bay \u001b[0m\n",
      "City Number 324 complete (324of628): \u001b[32m  kadaya \u001b[0m\n",
      "City Number 325 complete (325of628): \u001b[32m  barisal \u001b[0m\n",
      "City Number 326 complete (326of628): \u001b[32m  ambulu \u001b[0m\n",
      "City Number 327 complete (327of628): \u001b[32m  pitimbu \u001b[0m\n",
      "\u001b[31mMissing data for City number 328:-->  tasbuget\u001b[0m\n",
      "City Number 329 complete (329of628): \u001b[32m  figeac \u001b[0m\n",
      "City Number 330 complete (330of628): \u001b[32m  dukat \u001b[0m\n",
      "City Number 331 complete (331of628): \u001b[32m  central point \u001b[0m\n",
      "City Number 332 complete (332of628): \u001b[32m  toropets \u001b[0m\n",
      "City Number 333 complete (333of628): \u001b[32m  ponta do sol \u001b[0m\n",
      "City Number 334 complete (334of628): \u001b[32m  okhotsk \u001b[0m\n",
      "\u001b[31mMissing data for City number 335:-->  grand river south east\u001b[0m\n",
      "City Number 336 complete (336of628): \u001b[32m  seoul \u001b[0m\n",
      "City Number 337 complete (337of628): \u001b[32m  new ulm \u001b[0m\n",
      "City Number 338 complete (338of628): \u001b[32m  necochea \u001b[0m\n",
      "City Number 339 complete (339of628): \u001b[32m  wad rawah \u001b[0m\n",
      "City Number 340 complete (340of628): \u001b[32m  irtyshskiy \u001b[0m\n",
      "City Number 341 complete (341of628): \u001b[32m  sabang \u001b[0m\n",
      "City Number 342 complete (342of628): \u001b[32m  aguimes \u001b[0m\n",
      "City Number 343 complete (343of628): \u001b[32m  devon \u001b[0m\n",
      "\u001b[31mMissing data for City number 344:-->  barentsburg\u001b[0m\n",
      "City Number 345 complete (345of628): \u001b[32m  isangel \u001b[0m\n",
      "City Number 346 complete (346of628): \u001b[32m  lewistown \u001b[0m\n",
      "City Number 347 complete (347of628): \u001b[32m  yima \u001b[0m\n",
      "City Number 348 complete (348of628): \u001b[32m  uch \u001b[0m\n",
      "City Number 349 complete (349of628): \u001b[32m  hami \u001b[0m\n",
      "City Number 350 complete (350of628): \u001b[32m  namatanai \u001b[0m\n",
      "City Number 351 complete (351of628): \u001b[32m  sohag \u001b[0m\n",
      "City Number 352 complete (352of628): \u001b[32m  san juan \u001b[0m\n",
      "City Number 353 complete (353of628): \u001b[32m  santo antonio do ica \u001b[0m\n",
      "City Number 354 complete (354of628): \u001b[32m  maniitsoq \u001b[0m\n",
      "\u001b[31mMissing data for City number 355:-->  attawapiskat\u001b[0m\n",
      "City Number 356 complete (356of628): \u001b[32m  cayenne \u001b[0m\n",
      "City Number 357 complete (357of628): \u001b[32m  porbandar \u001b[0m\n",
      "City Number 358 complete (358of628): \u001b[32m  tual \u001b[0m\n",
      "City Number 359 complete (359of628): \u001b[32m  severo-kurilsk \u001b[0m\n",
      "City Number 360 complete (360of628): \u001b[32m  clyde river \u001b[0m\n",
      "City Number 361 complete (361of628): \u001b[32m  sechura \u001b[0m\n",
      "City Number 362 complete (362of628): \u001b[32m  solnechnyy \u001b[0m\n",
      "\u001b[31mMissing data for City number 363:-->  bandar-e torkaman\u001b[0m\n",
      "City Number 364 complete (364of628): \u001b[32m  camacupa \u001b[0m\n",
      "City Number 365 complete (365of628): \u001b[32m  yambio \u001b[0m\n",
      "City Number 366 complete (366of628): \u001b[32m  bauru \u001b[0m\n",
      "City Number 367 complete (367of628): \u001b[32m  valdivia \u001b[0m\n",
      "City Number 368 complete (368of628): \u001b[32m  los llanos de aridane \u001b[0m\n",
      "City Number 369 complete (369of628): \u001b[32m  townsville \u001b[0m\n",
      "City Number 370 complete (370of628): \u001b[32m  lokachi \u001b[0m\n",
      "City Number 371 complete (371of628): \u001b[32m  benjamin aceval \u001b[0m\n",
      "City Number 372 complete (372of628): \u001b[32m  talaya \u001b[0m\n",
      "\u001b[31mMissing data for City number 373:-->  cam pha\u001b[0m\n",
      "City Number 374 complete (374of628): \u001b[32m  limbe \u001b[0m\n",
      "City Number 375 complete (375of628): \u001b[32m  oranjemund \u001b[0m\n",
      "\u001b[31mMissing data for City number 376:-->  saleaula\u001b[0m\n",
      "City Number 377 complete (377of628): \u001b[32m  tabuk \u001b[0m\n",
      "City Number 378 complete (378of628): \u001b[32m  tolaga bay \u001b[0m\n",
      "\u001b[31mMissing data for City number 379:-->  paradwip\u001b[0m\n",
      "City Number 380 complete (380of628): \u001b[32m  alyangula \u001b[0m\n",
      "City Number 381 complete (381of628): \u001b[32m  halifax \u001b[0m\n",
      "City Number 382 complete (382of628): \u001b[32m  namagiripettai \u001b[0m\n",
      "City Number 383 complete (383of628): \u001b[32m  oranjestad \u001b[0m\n",
      "\u001b[31mMissing data for City number 384:-->  bataraza\u001b[0m\n",
      "City Number 385 complete (385of628): \u001b[32m  constitucion \u001b[0m\n",
      "\u001b[31mMissing data for City number 386:-->  rungata\u001b[0m\n",
      "City Number 387 complete (387of628): \u001b[32m  diffa \u001b[0m\n",
      "City Number 388 complete (388of628): \u001b[32m  broken hill \u001b[0m\n",
      "City Number 389 complete (389of628): \u001b[32m  emet \u001b[0m\n",
      "City Number 390 complete (390of628): \u001b[32m  quatre cocos \u001b[0m\n",
      "City Number 391 complete (391of628): \u001b[32m  lamesa \u001b[0m\n",
      "City Number 392 complete (392of628): \u001b[32m  touros \u001b[0m\n",
      "City Number 393 complete (393of628): \u001b[32m  sept-iles \u001b[0m\n",
      "City Number 394 complete (394of628): \u001b[32m  la fleche \u001b[0m\n",
      "City Number 395 complete (395of628): \u001b[32m  krasnoselkup \u001b[0m\n",
      "\u001b[31mMissing data for City number 396:-->  sumbawa\u001b[0m\n",
      "City Number 397 complete (397of628): \u001b[32m  luebo \u001b[0m\n",
      "City Number 398 complete (398of628): \u001b[32m  boa vista \u001b[0m\n",
      "City Number 399 complete (399of628): \u001b[32m  whyalla \u001b[0m\n",
      "City Number 400 complete (400of628): \u001b[32m  tuy hoa \u001b[0m\n",
      "City Number 401 complete (401of628): \u001b[32m  praya \u001b[0m\n",
      "City Number 402 complete (402of628): \u001b[32m  izola \u001b[0m\n",
      "City Number 403 complete (403of628): \u001b[32m  padang \u001b[0m\n",
      "City Number 404 complete (404of628): \u001b[32m  kholodnyy \u001b[0m\n",
      "City Number 405 complete (405of628): \u001b[32m  yenagoa \u001b[0m\n",
      "City Number 406 complete (406of628): \u001b[32m  houston \u001b[0m\n",
      "City Number 407 complete (407of628): \u001b[32m  taonan \u001b[0m\n",
      "City Number 408 complete (408of628): \u001b[32m  kavaratti \u001b[0m\n",
      "City Number 409 complete (409of628): \u001b[32m  mahibadhoo \u001b[0m\n",
      "City Number 410 complete (410of628): \u001b[32m  shingu \u001b[0m\n",
      "City Number 411 complete (411of628): \u001b[32m  tomatlan \u001b[0m\n",
      "City Number 412 complete (412of628): \u001b[32m  belogorsk \u001b[0m\n",
      "\u001b[31mMissing data for City number 413:-->  kadykchan\u001b[0m\n",
      "\u001b[31mMissing data for City number 414:-->  kinanah\u001b[0m\n",
      "City Number 415 complete (415of628): \u001b[32m  wagar \u001b[0m\n",
      "City Number 416 complete (416of628): \u001b[32m  puerto del rosario \u001b[0m\n",
      "\u001b[31mMissing data for City number 417:-->  bargal\u001b[0m\n",
      "City Number 418 complete (418of628): \u001b[32m  talnakh \u001b[0m\n",
      "City Number 419 complete (419of628): \u001b[32m  shanghai \u001b[0m\n",
      "City Number 420 complete (420of628): \u001b[32m  kahului \u001b[0m\n",
      "City Number 421 complete (421of628): \u001b[32m  rawson \u001b[0m\n",
      "City Number 422 complete (422of628): \u001b[32m  nurota \u001b[0m\n",
      "\u001b[31mMissing data for City number 423:-->  jomalig\u001b[0m\n",
      "City Number 424 complete (424of628): \u001b[32m  surt \u001b[0m\n",
      "City Number 425 complete (425of628): \u001b[32m  hammerfest \u001b[0m\n",
      "City Number 426 complete (426of628): \u001b[32m  anamur \u001b[0m\n",
      "City Number 427 complete (427of628): \u001b[32m  libertador general san martin \u001b[0m\n",
      "\u001b[31mMissing data for City number 428:-->  arakhnaion\u001b[0m\n",
      "City Number 429 complete (429of628): \u001b[32m  agadir \u001b[0m\n",
      "City Number 430 complete (430of628): \u001b[32m  portland \u001b[0m\n",
      "City Number 431 complete (431of628): \u001b[32m  labuhan \u001b[0m\n",
      "City Number 432 complete (432of628): \u001b[32m  pouembout \u001b[0m\n",
      "City Number 433 complete (433of628): \u001b[32m  port-gentil \u001b[0m\n",
      "City Number 434 complete (434of628): \u001b[32m  dourbali \u001b[0m\n",
      "City Number 435 complete (435of628): \u001b[32m  canico \u001b[0m\n",
      "City Number 436 complete (436of628): \u001b[32m  marystown \u001b[0m\n",
      "City Number 437 complete (437of628): \u001b[32m  fort nelson \u001b[0m\n",
      "City Number 438 complete (438of628): \u001b[32m  miyako \u001b[0m\n",
      "City Number 439 complete (439of628): \u001b[32m  bud \u001b[0m\n",
      "City Number 440 complete (440of628): \u001b[32m  twin falls \u001b[0m\n",
      "City Number 441 complete (441of628): \u001b[32m  aktash \u001b[0m\n",
      "City Number 442 complete (442of628): \u001b[32m  port macquarie \u001b[0m\n",
      "\u001b[31mMissing data for City number 443:-->  cah ab\u001b[0m\n",
      "City Number 444 complete (444of628): \u001b[32m  anadyr \u001b[0m\n",
      "City Number 445 complete (445of628): \u001b[32m  lethem \u001b[0m\n",
      "City Number 446 complete (446of628): \u001b[32m  boende \u001b[0m\n",
      "City Number 447 complete (447of628): \u001b[32m  tombouctou \u001b[0m\n",
      "City Number 448 complete (448of628): \u001b[32m  flinders \u001b[0m\n",
      "City Number 449 complete (449of628): \u001b[32m  san patricio \u001b[0m\n",
      "City Number 450 complete (450of628): \u001b[32m  svarstad \u001b[0m\n",
      "\u001b[31mMissing data for City number 451:-->  umzimvubu\u001b[0m\n",
      "City Number 452 complete (452of628): \u001b[32m  petropavlovsk-kamchatskiy \u001b[0m\n",
      "City Number 453 complete (453of628): \u001b[32m  salta \u001b[0m\n",
      "City Number 454 complete (454of628): \u001b[32m  shieli \u001b[0m\n",
      "\u001b[31mMissing data for City number 455:-->  sapao\u001b[0m\n",
      "City Number 456 complete (456of628): \u001b[32m  salamiyah \u001b[0m\n",
      "City Number 457 complete (457of628): \u001b[32m  cairns \u001b[0m\n",
      "\u001b[31mMissing data for City number 458:-->  jabiru\u001b[0m\n",
      "City Number 459 complete (459of628): \u001b[32m  kismayo \u001b[0m\n",
      "\u001b[31mMissing data for City number 460:-->  bolungarvik\u001b[0m\n",
      "City Number 461 complete (461of628): \u001b[32m  ardakan \u001b[0m\n",
      "City Number 462 complete (462of628): \u001b[32m  rongcheng \u001b[0m\n",
      "City Number 463 complete (463of628): \u001b[32m  kathu \u001b[0m\n",
      "City Number 464 complete (464of628): \u001b[32m  riverton \u001b[0m\n",
      "City Number 465 complete (465of628): \u001b[32m  gali \u001b[0m\n",
      "City Number 466 complete (466of628): \u001b[32m  andenes \u001b[0m\n",
      "City Number 467 complete (467of628): \u001b[32m  anchorage \u001b[0m\n",
      "City Number 468 complete (468of628): \u001b[32m  yanam \u001b[0m\n",
      "City Number 469 complete (469of628): \u001b[32m  paita \u001b[0m\n",
      "City Number 470 complete (470of628): \u001b[32m  lahaina \u001b[0m\n",
      "\u001b[31mMissing data for City number 471:-->  rawannawi\u001b[0m\n",
      "City Number 472 complete (472of628): \u001b[32m  yumen \u001b[0m\n",
      "City Number 473 complete (473of628): \u001b[32m  port blair \u001b[0m\n",
      "City Number 474 complete (474of628): \u001b[32m  ginda \u001b[0m\n",
      "City Number 475 complete (475of628): \u001b[32m  bilibino \u001b[0m\n",
      "City Number 476 complete (476of628): \u001b[32m  balabac \u001b[0m\n",
      "City Number 477 complete (477of628): \u001b[32m  capitan bado \u001b[0m\n",
      "City Number 478 complete (478of628): \u001b[32m  linxia \u001b[0m\n",
      "City Number 479 complete (479of628): \u001b[32m  conceicao do araguaia \u001b[0m\n",
      "City Number 480 complete (480of628): \u001b[32m  lakhdenpokhya \u001b[0m\n",
      "City Number 481 complete (481of628): \u001b[32m  dwarka \u001b[0m\n",
      "City Number 482 complete (482of628): \u001b[32m  adrar \u001b[0m\n",
      "City Number 483 complete (483of628): \u001b[32m  price \u001b[0m\n",
      "City Number 484 complete (484of628): \u001b[32m  kajaani \u001b[0m\n",
      "City Number 485 complete (485of628): \u001b[32m  chepareria \u001b[0m\n",
      "\u001b[31mMissing data for City number 486:-->  vaitupu\u001b[0m\n",
      "City Number 487 complete (487of628): \u001b[32m  nemuro \u001b[0m\n",
      "City Number 488 complete (488of628): \u001b[32m  novopokrovka \u001b[0m\n",
      "City Number 489 complete (489of628): \u001b[32m  preobrazheniye \u001b[0m\n",
      "City Number 490 complete (490of628): \u001b[32m  kampene \u001b[0m\n",
      "City Number 491 complete (491of628): \u001b[32m  brae \u001b[0m\n",
      "City Number 492 complete (492of628): \u001b[32m  muros \u001b[0m\n",
      "City Number 493 complete (493of628): \u001b[32m  tupiza \u001b[0m\n",
      "\u001b[31mMissing data for City number 494:-->  ngukurr\u001b[0m\n",
      "City Number 495 complete (495of628): \u001b[32m  aconibe \u001b[0m\n",
      "City Number 496 complete (496of628): \u001b[32m  paraiso \u001b[0m\n",
      "City Number 497 complete (497of628): \u001b[32m  sao joao dos patos \u001b[0m\n",
      "City Number 498 complete (498of628): \u001b[32m  pafos \u001b[0m\n",
      "City Number 499 complete (499of628): \u001b[32m  tamworth \u001b[0m\n",
      "City Number 500 complete (500of628): \u001b[32m  little current \u001b[0m\n",
      "City Number 501 complete (501of628): \u001b[32m  tuatapere \u001b[0m\n",
      "City Number 502 complete (502of628): \u001b[32m  kharan \u001b[0m\n",
      "City Number 503 complete (503of628): \u001b[32m  cap-aux-meules \u001b[0m\n",
      "City Number 504 complete (504of628): \u001b[32m  qasigiannguit \u001b[0m\n",
      "City Number 505 complete (505of628): \u001b[32m  golynki \u001b[0m\n",
      "City Number 506 complete (506of628): \u001b[32m  saint george \u001b[0m\n",
      "City Number 507 complete (507of628): \u001b[32m  diamantino \u001b[0m\n",
      "City Number 508 complete (508of628): \u001b[32m  trelew \u001b[0m\n",
      "City Number 509 complete (509of628): \u001b[32m  warrington \u001b[0m\n",
      "City Number 510 complete (510of628): \u001b[32m  husavik \u001b[0m\n",
      "City Number 511 complete (511of628): \u001b[32m  montlucon \u001b[0m\n",
      "City Number 512 complete (512of628): \u001b[32m  orapa \u001b[0m\n",
      "City Number 513 complete (513of628): \u001b[32m  hobyo \u001b[0m\n",
      "City Number 514 complete (514of628): \u001b[32m  mokhsogollokh \u001b[0m\n",
      "City Number 515 complete (515of628): \u001b[32m  marsaxlokk \u001b[0m\n",
      "City Number 516 complete (516of628): \u001b[32m  avera \u001b[0m\n",
      "City Number 517 complete (517of628): \u001b[32m  wilmington \u001b[0m\n",
      "City Number 518 complete (518of628): \u001b[32m  kutum \u001b[0m\n",
      "City Number 519 complete (519of628): \u001b[32m  leninogorsk \u001b[0m\n",
      "City Number 520 complete (520of628): \u001b[32m  puerto carreno \u001b[0m\n",
      "City Number 521 complete (521of628): \u001b[32m  saint-augustin \u001b[0m\n",
      "City Number 522 complete (522of628): \u001b[32m  vila franca do campo \u001b[0m\n",
      "City Number 523 complete (523of628): \u001b[32m  shalya \u001b[0m\n",
      "City Number 524 complete (524of628): \u001b[32m  redlands \u001b[0m\n",
      "City Number 525 complete (525of628): \u001b[32m  radovis \u001b[0m\n",
      "City Number 526 complete (526of628): \u001b[32m  birecik \u001b[0m\n",
      "City Number 527 complete (527of628): \u001b[32m  rio grande \u001b[0m\n",
      "City Number 528 complete (528of628): \u001b[32m  griffith \u001b[0m\n",
      "City Number 529 complete (529of628): \u001b[32m  nkoteng \u001b[0m\n",
      "City Number 530 complete (530of628): \u001b[32m  cabo san lucas \u001b[0m\n",
      "\u001b[31mMissing data for City number 531:-->  tarudant\u001b[0m\n",
      "City Number 532 complete (532of628): \u001b[32m  kuandian \u001b[0m\n",
      "City Number 533 complete (533of628): \u001b[32m  creel \u001b[0m\n",
      "City Number 534 complete (534of628): \u001b[32m  atlantic city \u001b[0m\n",
      "\u001b[31mMissing data for City number 535:-->  zlatoustovsk\u001b[0m\n",
      "City Number 536 complete (536of628): \u001b[32m  casper \u001b[0m\n",
      "City Number 537 complete (537of628): \u001b[32m  tiznit \u001b[0m\n",
      "City Number 538 complete (538of628): \u001b[32m  noumea \u001b[0m\n",
      "\u001b[31mMissing data for City number 539:-->  warqla\u001b[0m\n",
      "City Number 540 complete (540of628): \u001b[32m  el alto \u001b[0m\n",
      "City Number 541 complete (541of628): \u001b[32m  sorong \u001b[0m\n",
      "City Number 542 complete (542of628): \u001b[32m  berlevag \u001b[0m\n",
      "City Number 543 complete (543of628): \u001b[32m  boyolangu \u001b[0m\n",
      "City Number 544 complete (544of628): \u001b[32m  liku \u001b[0m\n",
      "City Number 545 complete (545of628): \u001b[32m  pilar \u001b[0m\n",
      "City Number 546 complete (546of628): \u001b[32m  sabinopolis \u001b[0m\n",
      "City Number 547 complete (547of628): \u001b[32m  kidal \u001b[0m\n",
      "City Number 548 complete (548of628): \u001b[32m  doha \u001b[0m\n",
      "City Number 549 complete (549of628): \u001b[32m  marsh harbour \u001b[0m\n",
      "\u001b[31mMissing data for City number 550:-->  yomitan\u001b[0m\n",
      "City Number 551 complete (551of628): \u001b[32m  lakatoro \u001b[0m\n",
      "City Number 552 complete (552of628): \u001b[32m  onda \u001b[0m\n",
      "City Number 553 complete (553of628): \u001b[32m  shenjiamen \u001b[0m\n",
      "City Number 554 complete (554of628): \u001b[32m  port lincoln \u001b[0m\n",
      "\u001b[31mMissing data for City number 555:-->  beruni\u001b[0m\n",
      "City Number 556 complete (556of628): \u001b[32m  chapais \u001b[0m\n",
      "City Number 557 complete (557of628): \u001b[32m  jibuti \u001b[0m\n",
      "City Number 558 complete (558of628): \u001b[32m  kizilskoye \u001b[0m\n",
      "\u001b[31mMissing data for City number 559:-->  bolshegrivskoye\u001b[0m\n",
      "\u001b[31mMissing data for City number 560:-->  mullaitivu\u001b[0m\n",
      "City Number 561 complete (561of628): \u001b[32m  nabire \u001b[0m\n",
      "City Number 562 complete (562of628): \u001b[32m  ubud \u001b[0m\n",
      "City Number 563 complete (563of628): \u001b[32m  jieshi \u001b[0m\n",
      "City Number 564 complete (564of628): \u001b[32m  eureka \u001b[0m\n",
      "City Number 565 complete (565of628): \u001b[32m  nkhata bay \u001b[0m\n",
      "City Number 566 complete (566of628): \u001b[32m  nyurba \u001b[0m\n",
      "City Number 567 complete (567of628): \u001b[32m  rio pardo \u001b[0m\n",
      "City Number 568 complete (568of628): \u001b[32m  matale \u001b[0m\n",
      "City Number 569 complete (569of628): \u001b[32m  calatayud \u001b[0m\n",
      "City Number 570 complete (570of628): \u001b[32m  aykhal \u001b[0m\n",
      "City Number 571 complete (571of628): \u001b[32m  acarau \u001b[0m\n",
      "City Number 572 complete (572of628): \u001b[32m  kriel \u001b[0m\n",
      "City Number 573 complete (573of628): \u001b[32m  dunedin \u001b[0m\n",
      "City Number 574 complete (574of628): \u001b[32m  caucaia \u001b[0m\n",
      "City Number 575 complete (575of628): \u001b[32m  dunda \u001b[0m\n",
      "City Number 576 complete (576of628): \u001b[32m  kollam \u001b[0m\n",
      "City Number 577 complete (577of628): \u001b[32m  arcata \u001b[0m\n",
      "City Number 578 complete (578of628): \u001b[32m  thinadhoo \u001b[0m\n",
      "City Number 579 complete (579of628): \u001b[32m  lagoa \u001b[0m\n",
      "City Number 580 complete (580of628): \u001b[32m  conakry \u001b[0m\n",
      "\u001b[31mMissing data for City number 581:-->  samusu\u001b[0m\n",
      "City Number 582 complete (582of628): \u001b[32m  marawi \u001b[0m\n",
      "City Number 583 complete (583of628): \u001b[32m  novobirilyussy \u001b[0m\n",
      "City Number 584 complete (584of628): \u001b[32m  erzin \u001b[0m\n",
      "City Number 585 complete (585of628): \u001b[32m  lichinga \u001b[0m\n",
      "\u001b[31mMissing data for City number 586:-->  mrirt\u001b[0m\n",
      "City Number 587 complete (587of628): \u001b[32m  rize \u001b[0m\n",
      "City Number 588 complete (588of628): \u001b[32m  byron bay \u001b[0m\n",
      "City Number 589 complete (589of628): \u001b[32m  carutapera \u001b[0m\n",
      "City Number 590 complete (590of628): \u001b[32m  bambous virieux \u001b[0m\n",
      "City Number 591 complete (591of628): \u001b[32m  esna \u001b[0m\n",
      "City Number 592 complete (592of628): \u001b[32m  anton lizardo \u001b[0m\n",
      "City Number 593 complete (593of628): \u001b[32m  haicheng \u001b[0m\n",
      "City Number 594 complete (594of628): \u001b[32m  kamina \u001b[0m\n",
      "City Number 595 complete (595of628): \u001b[32m  faya \u001b[0m\n",
      "City Number 596 complete (596of628): \u001b[32m  tadine \u001b[0m\n",
      "City Number 597 complete (597of628): \u001b[32m  aban \u001b[0m\n",
      "City Number 598 complete (598of628): \u001b[32m  floro \u001b[0m\n",
      "City Number 599 complete (599of628): \u001b[32m  katobu \u001b[0m\n",
      "City Number 600 complete (600of628): \u001b[32m  lompoc \u001b[0m\n",
      "City Number 601 complete (601of628): \u001b[32m  mount gambier \u001b[0m\n",
      "City Number 602 complete (602of628): \u001b[32m  dudinka \u001b[0m\n",
      "\u001b[31mMissing data for City number 603:-->  yuzhno-yeniseyskiy\u001b[0m\n",
      "City Number 604 complete (604of628): \u001b[32m  tromso \u001b[0m\n",
      "City Number 605 complete (605of628): \u001b[32m  medicine hat \u001b[0m\n",
      "City Number 606 complete (606of628): \u001b[32m  chacaltianguis \u001b[0m\n",
      "City Number 607 complete (607of628): \u001b[32m  nyandoma \u001b[0m\n",
      "City Number 608 complete (608of628): \u001b[32m  tapes \u001b[0m\n",
      "City Number 609 complete (609of628): \u001b[32m  jacareacanga \u001b[0m\n",
      "City Number 610 complete (610of628): \u001b[32m  biloela \u001b[0m\n",
      "City Number 611 complete (611of628): \u001b[32m  dawson creek \u001b[0m\n",
      "City Number 612 complete (612of628): \u001b[32m  shitanjing \u001b[0m\n",
      "City Number 613 complete (613of628): \u001b[32m  hulan \u001b[0m\n",
      "City Number 614 complete (614of628): \u001b[32m  harper \u001b[0m\n",
      "City Number 615 complete (615of628): \u001b[32m  ylivieska \u001b[0m\n",
      "City Number 616 complete (616of628): \u001b[32m  ler \u001b[0m\n",
      "City Number 617 complete (617of628): \u001b[32m  coolum beach \u001b[0m\n",
      "City Number 618 complete (618of628): \u001b[32m  margate \u001b[0m\n",
      "City Number 619 complete (619of628): \u001b[32m  zhicheng \u001b[0m\n",
      "City Number 620 complete (620of628): \u001b[32m  le port \u001b[0m\n",
      "City Number 621 complete (621of628): \u001b[32m  ambilobe \u001b[0m\n",
      "City Number 622 complete (622of628): \u001b[32m  gelibolu \u001b[0m\n",
      "\u001b[31mMissing data for City number 623:-->  nguiu\u001b[0m\n",
      "City Number 624 complete (624of628): \u001b[32m  panuco \u001b[0m\n",
      "City Number 625 complete (625of628): \u001b[32m  antoniny \u001b[0m\n",
      "City Number 626 complete (626of628): \u001b[32m  ust-maya \u001b[0m\n",
      "City Number 627 complete (627of628): \u001b[32m  itagi \u001b[0m\n",
      "City Number 628 complete (628of628): \u001b[32m  sioux lookout \u001b[0m\n",
      "----------------\n",
      "End of Recording\n",
      "----------------\n"
     ]
    }
   ],
   "source": [
    "\n",
    "\n",
    "\n",
    "\n",
    "url = 'https://api.openweathermap.org/data/2.5/weather?q='\n",
    "\n",
    "Cunter = 1\n",
    "City_names = []\n",
    "Lat = []\n",
    "Lng = []\n",
    "Humid = []\n",
    "Wind = []\n",
    "Temp = []\n",
    "Clouds = []\n",
    "\n",
    "\n",
    "#Testing API and Saving Jason file:\n",
    "#city=cities[2]\n",
    "#city_weather_info = (requests.get(url + city+'&appid='+weather_api_key)).json()\n",
    "#with open('Weather_info.json', 'w') as json_file:\n",
    "#    json.dump(city_weather_info, json_file)\n",
    "\n",
    "\n",
    "    \n",
    "    \n",
    "print('------------------')\n",
    "print('Start of Recording')\n",
    "print('------------------')\n",
    "\n",
    "for city in cities:\n",
    "#for city in cities:\n",
    "    try:\n",
    "        city_weather_info = requests.get(url + city+'&appid='+weather_api_key).json()\n",
    "        City_names.append(city_weather_info['name'])\n",
    "        Lat.append(city_weather_info['coord']['lat'])\n",
    "        Lng.append(city_weather_info['coord']['lon'])\n",
    "        Humid.append(city_weather_info['main']['humidity'])\n",
    "        Wind.append(city_weather_info['wind']['speed'])\n",
    "        Temp.append(city_weather_info['main']['temp'])\n",
    "\n",
    "        Clouds.append(city_weather_info['clouds']['all'])\n",
    "\n",
    "        print(f'City Number {Cunter} complete ({Cunter}of{len(cities)}): {Fore.GREEN}  {city} {Style.RESET_ALL}')\n",
    "    \n",
    "    except KeyError:\n",
    "        print(f'{Fore.RED}Missing data for City number {Cunter}:-->  {city}{Style.RESET_ALL}')\n",
    "    \n",
    "    Cunter = Cunter + 1\n",
    "        \n",
    "print('----------------')\n",
    "print('End of Recording')\n",
    "print('----------------')"
   ]
  },
  {
   "cell_type": "markdown",
   "metadata": {},
   "source": [
    "### Perform API Calls\n",
    "* Perform a weather check on each city using a series of successive API calls.\n",
    "* Include a print log of each city as it'sbeing processed (with the city number and city name).\n"
   ]
  },
  {
   "cell_type": "code",
   "execution_count": 6,
   "metadata": {},
   "outputs": [
    {
     "data": {
      "text/html": [
       "<div>\n",
       "<style scoped>\n",
       "    .dataframe tbody tr th:only-of-type {\n",
       "        vertical-align: middle;\n",
       "    }\n",
       "\n",
       "    .dataframe tbody tr th {\n",
       "        vertical-align: top;\n",
       "    }\n",
       "\n",
       "    .dataframe thead th {\n",
       "        text-align: right;\n",
       "    }\n",
       "</style>\n",
       "<table border=\"1\" class=\"dataframe\">\n",
       "  <thead>\n",
       "    <tr style=\"text-align: right;\">\n",
       "      <th></th>\n",
       "      <th>City</th>\n",
       "      <th>Latitude</th>\n",
       "      <th>Longitude</th>\n",
       "      <th>Humidity</th>\n",
       "      <th>Wind_Speed</th>\n",
       "      <th>Temperature</th>\n",
       "      <th>Cloudiness</th>\n",
       "    </tr>\n",
       "  </thead>\n",
       "  <tbody>\n",
       "    <tr>\n",
       "      <th>0</th>\n",
       "      <td>Port Alfred</td>\n",
       "      <td>-33.59</td>\n",
       "      <td>26.89</td>\n",
       "      <td>39</td>\n",
       "      <td>3.12</td>\n",
       "      <td>286.64</td>\n",
       "      <td>0</td>\n",
       "    </tr>\n",
       "    <tr>\n",
       "      <th>1</th>\n",
       "      <td>Yatou</td>\n",
       "      <td>37.15</td>\n",
       "      <td>122.38</td>\n",
       "      <td>60</td>\n",
       "      <td>5.11</td>\n",
       "      <td>298.78</td>\n",
       "      <td>46</td>\n",
       "    </tr>\n",
       "    <tr>\n",
       "      <th>2</th>\n",
       "      <td>Guerrero Negro</td>\n",
       "      <td>27.98</td>\n",
       "      <td>-114.06</td>\n",
       "      <td>84</td>\n",
       "      <td>6.87</td>\n",
       "      <td>292.84</td>\n",
       "      <td>0</td>\n",
       "    </tr>\n",
       "    <tr>\n",
       "      <th>3</th>\n",
       "      <td>Ushuaia</td>\n",
       "      <td>-54.80</td>\n",
       "      <td>-68.30</td>\n",
       "      <td>74</td>\n",
       "      <td>2.10</td>\n",
       "      <td>271.15</td>\n",
       "      <td>0</td>\n",
       "    </tr>\n",
       "    <tr>\n",
       "      <th>4</th>\n",
       "      <td>Albany</td>\n",
       "      <td>42.60</td>\n",
       "      <td>-73.97</td>\n",
       "      <td>83</td>\n",
       "      <td>5.12</td>\n",
       "      <td>292.01</td>\n",
       "      <td>100</td>\n",
       "    </tr>\n",
       "    <tr>\n",
       "      <th>...</th>\n",
       "      <td>...</td>\n",
       "      <td>...</td>\n",
       "      <td>...</td>\n",
       "      <td>...</td>\n",
       "      <td>...</td>\n",
       "      <td>...</td>\n",
       "      <td>...</td>\n",
       "    </tr>\n",
       "    <tr>\n",
       "      <th>564</th>\n",
       "      <td>Pánuco</td>\n",
       "      <td>22.05</td>\n",
       "      <td>-98.17</td>\n",
       "      <td>72</td>\n",
       "      <td>5.70</td>\n",
       "      <td>288.15</td>\n",
       "      <td>90</td>\n",
       "    </tr>\n",
       "    <tr>\n",
       "      <th>565</th>\n",
       "      <td>Antoniny</td>\n",
       "      <td>49.81</td>\n",
       "      <td>26.88</td>\n",
       "      <td>89</td>\n",
       "      <td>0.96</td>\n",
       "      <td>285.98</td>\n",
       "      <td>84</td>\n",
       "    </tr>\n",
       "    <tr>\n",
       "      <th>566</th>\n",
       "      <td>Ust-Maya</td>\n",
       "      <td>60.42</td>\n",
       "      <td>134.53</td>\n",
       "      <td>35</td>\n",
       "      <td>2.30</td>\n",
       "      <td>301.65</td>\n",
       "      <td>94</td>\n",
       "    </tr>\n",
       "    <tr>\n",
       "      <th>567</th>\n",
       "      <td>Itagi</td>\n",
       "      <td>-14.16</td>\n",
       "      <td>-40.01</td>\n",
       "      <td>93</td>\n",
       "      <td>1.92</td>\n",
       "      <td>292.19</td>\n",
       "      <td>88</td>\n",
       "    </tr>\n",
       "    <tr>\n",
       "      <th>568</th>\n",
       "      <td>Sioux Lookout</td>\n",
       "      <td>50.10</td>\n",
       "      <td>-91.92</td>\n",
       "      <td>72</td>\n",
       "      <td>3.10</td>\n",
       "      <td>292.15</td>\n",
       "      <td>20</td>\n",
       "    </tr>\n",
       "  </tbody>\n",
       "</table>\n",
       "<p>569 rows × 7 columns</p>\n",
       "</div>"
      ],
      "text/plain": [
       "               City  Latitude  Longitude  Humidity  Wind_Speed  Temperature  \\\n",
       "0       Port Alfred    -33.59      26.89        39        3.12       286.64   \n",
       "1             Yatou     37.15     122.38        60        5.11       298.78   \n",
       "2    Guerrero Negro     27.98    -114.06        84        6.87       292.84   \n",
       "3           Ushuaia    -54.80     -68.30        74        2.10       271.15   \n",
       "4            Albany     42.60     -73.97        83        5.12       292.01   \n",
       "..              ...       ...        ...       ...         ...          ...   \n",
       "564          Pánuco     22.05     -98.17        72        5.70       288.15   \n",
       "565        Antoniny     49.81      26.88        89        0.96       285.98   \n",
       "566        Ust-Maya     60.42     134.53        35        2.30       301.65   \n",
       "567           Itagi    -14.16     -40.01        93        1.92       292.19   \n",
       "568   Sioux Lookout     50.10     -91.92        72        3.10       292.15   \n",
       "\n",
       "     Cloudiness  \n",
       "0             0  \n",
       "1            46  \n",
       "2             0  \n",
       "3             0  \n",
       "4           100  \n",
       "..          ...  \n",
       "564          90  \n",
       "565          84  \n",
       "566          94  \n",
       "567          88  \n",
       "568          20  \n",
       "\n",
       "[569 rows x 7 columns]"
      ]
     },
     "execution_count": 6,
     "metadata": {},
     "output_type": "execute_result"
    }
   ],
   "source": [
    "city_data = pd.DataFrame({'City': City_names,\n",
    "                            'Latitude': Lat,\n",
    "                            'Longitude': Lng,\n",
    "                            'Humidity': Humid,\n",
    "                            'Wind_Speed': Wind,\n",
    "                            'Temperature': Temp,\n",
    "                            'Cloudiness': Clouds,\n",
    "                            })\n",
    "city_data"
   ]
  },
  {
   "cell_type": "markdown",
   "metadata": {},
   "source": [
    "### Convert Raw Data to DataFrame\n",
    "* Export the city data into a .csv.\n",
    "* Display the DataFrame"
   ]
  },
  {
   "cell_type": "code",
   "execution_count": 7,
   "metadata": {},
   "outputs": [
    {
     "data": {
      "text/html": [
       "<div>\n",
       "<style scoped>\n",
       "    .dataframe tbody tr th:only-of-type {\n",
       "        vertical-align: middle;\n",
       "    }\n",
       "\n",
       "    .dataframe tbody tr th {\n",
       "        vertical-align: top;\n",
       "    }\n",
       "\n",
       "    .dataframe thead th {\n",
       "        text-align: right;\n",
       "    }\n",
       "</style>\n",
       "<table border=\"1\" class=\"dataframe\">\n",
       "  <thead>\n",
       "    <tr style=\"text-align: right;\">\n",
       "      <th></th>\n",
       "      <th>City</th>\n",
       "      <th>Latitude</th>\n",
       "      <th>Longitude</th>\n",
       "      <th>Humidity</th>\n",
       "      <th>Wind_Speed</th>\n",
       "      <th>TemperatureK</th>\n",
       "      <th>Cloudiness</th>\n",
       "      <th>Temperature</th>\n",
       "    </tr>\n",
       "  </thead>\n",
       "  <tbody>\n",
       "    <tr>\n",
       "      <th>0</th>\n",
       "      <td>Port Alfred</td>\n",
       "      <td>-33.59</td>\n",
       "      <td>26.89</td>\n",
       "      <td>39</td>\n",
       "      <td>3.12</td>\n",
       "      <td>286.64</td>\n",
       "      <td>0</td>\n",
       "      <td>56</td>\n",
       "    </tr>\n",
       "    <tr>\n",
       "      <th>1</th>\n",
       "      <td>Yatou</td>\n",
       "      <td>37.15</td>\n",
       "      <td>122.38</td>\n",
       "      <td>60</td>\n",
       "      <td>5.11</td>\n",
       "      <td>298.78</td>\n",
       "      <td>46</td>\n",
       "      <td>78</td>\n",
       "    </tr>\n",
       "    <tr>\n",
       "      <th>2</th>\n",
       "      <td>Guerrero Negro</td>\n",
       "      <td>27.98</td>\n",
       "      <td>-114.06</td>\n",
       "      <td>84</td>\n",
       "      <td>6.87</td>\n",
       "      <td>292.84</td>\n",
       "      <td>0</td>\n",
       "      <td>67</td>\n",
       "    </tr>\n",
       "    <tr>\n",
       "      <th>3</th>\n",
       "      <td>Ushuaia</td>\n",
       "      <td>-54.80</td>\n",
       "      <td>-68.30</td>\n",
       "      <td>74</td>\n",
       "      <td>2.10</td>\n",
       "      <td>271.15</td>\n",
       "      <td>0</td>\n",
       "      <td>28</td>\n",
       "    </tr>\n",
       "    <tr>\n",
       "      <th>4</th>\n",
       "      <td>Albany</td>\n",
       "      <td>42.60</td>\n",
       "      <td>-73.97</td>\n",
       "      <td>83</td>\n",
       "      <td>5.12</td>\n",
       "      <td>292.01</td>\n",
       "      <td>100</td>\n",
       "      <td>65</td>\n",
       "    </tr>\n",
       "  </tbody>\n",
       "</table>\n",
       "</div>"
      ],
      "text/plain": [
       "             City  Latitude  Longitude  Humidity  Wind_Speed  TemperatureK  \\\n",
       "0     Port Alfred    -33.59      26.89        39        3.12        286.64   \n",
       "1           Yatou     37.15     122.38        60        5.11        298.78   \n",
       "2  Guerrero Negro     27.98    -114.06        84        6.87        292.84   \n",
       "3         Ushuaia    -54.80     -68.30        74        2.10        271.15   \n",
       "4          Albany     42.60     -73.97        83        5.12        292.01   \n",
       "\n",
       "   Cloudiness  Temperature  \n",
       "0           0           56  \n",
       "1          46           78  \n",
       "2           0           67  \n",
       "3           0           28  \n",
       "4         100           65  "
      ]
     },
     "execution_count": 7,
     "metadata": {},
     "output_type": "execute_result"
    }
   ],
   "source": [
    "\n",
    "\n",
    "#Save dataframe as csv\n",
    "#300K × 9/5 - 459.67\n",
    "city_data=city_data.rename(columns={'Temperature':'TemperatureK'})\n",
    "\n",
    "#Converting Kelvin To Farenhite\n",
    "city_data['Temperature']=(city_data.TemperatureK*9/5-459.67).astype(int)\n",
    "\n",
    "pd.DataFrame.to_csv(city_data, 'output_data\\city_data.csv')\n",
    "\n",
    "city_data.head()"
   ]
  },
  {
   "cell_type": "code",
   "execution_count": null,
   "metadata": {},
   "outputs": [],
   "source": []
  },
  {
   "cell_type": "markdown",
   "metadata": {},
   "source": [
    "## Inspect the data and remove the cities where the humidity > 100%.\n",
    "----\n",
    "Skip this step if there are no cities that have humidity > 100%. "
   ]
  },
  {
   "cell_type": "code",
   "execution_count": 8,
   "metadata": {},
   "outputs": [
    {
     "name": "stdout",
     "output_type": "stream",
     "text": [
      "Empty DataFrame\n",
      "Columns: [City, Latitude, Longitude, Humidity, Wind_Speed, TemperatureK, Cloudiness, Temperature]\n",
      "Index: []\n"
     ]
    }
   ],
   "source": [
    "#  Get the indices of cities that have humidity over 100%.\n",
    "Cities_over100=city_data.loc[city_data['Humidity']>100]\n",
    "print(Cities_over100)"
   ]
  },
  {
   "cell_type": "code",
   "execution_count": null,
   "metadata": {},
   "outputs": [],
   "source": [
    "# Make a new DataFrame equal to the city data to drop all humidity outliers by index.\n",
    "# Passing \"inplace=False\" will make a copy of the city_weather_info DataFrame, which we call \"clean_city_weather_info\".\n"
   ]
  },
  {
   "cell_type": "code",
   "execution_count": 56,
   "metadata": {},
   "outputs": [
    {
     "data": {
      "text/html": [
       "<div>\n",
       "<style scoped>\n",
       "    .dataframe tbody tr th:only-of-type {\n",
       "        vertical-align: middle;\n",
       "    }\n",
       "\n",
       "    .dataframe tbody tr th {\n",
       "        vertical-align: top;\n",
       "    }\n",
       "\n",
       "    .dataframe thead th {\n",
       "        text-align: right;\n",
       "    }\n",
       "</style>\n",
       "<table border=\"1\" class=\"dataframe\">\n",
       "  <thead>\n",
       "    <tr style=\"text-align: right;\">\n",
       "      <th></th>\n",
       "      <th>Unnamed: 0</th>\n",
       "      <th>City</th>\n",
       "      <th>Latitude</th>\n",
       "      <th>Longitude</th>\n",
       "      <th>Humidity</th>\n",
       "      <th>Wind_Speed</th>\n",
       "      <th>TemperatureK</th>\n",
       "      <th>Cloudiness</th>\n",
       "      <th>Temperature</th>\n",
       "    </tr>\n",
       "  </thead>\n",
       "  <tbody>\n",
       "    <tr>\n",
       "      <th>0</th>\n",
       "      <td>0</td>\n",
       "      <td>Port Alfred</td>\n",
       "      <td>-33.59</td>\n",
       "      <td>26.89</td>\n",
       "      <td>39</td>\n",
       "      <td>3.12</td>\n",
       "      <td>286.64</td>\n",
       "      <td>0</td>\n",
       "      <td>56</td>\n",
       "    </tr>\n",
       "    <tr>\n",
       "      <th>1</th>\n",
       "      <td>1</td>\n",
       "      <td>Yatou</td>\n",
       "      <td>37.15</td>\n",
       "      <td>122.38</td>\n",
       "      <td>60</td>\n",
       "      <td>5.11</td>\n",
       "      <td>298.78</td>\n",
       "      <td>46</td>\n",
       "      <td>78</td>\n",
       "    </tr>\n",
       "    <tr>\n",
       "      <th>2</th>\n",
       "      <td>2</td>\n",
       "      <td>Guerrero Negro</td>\n",
       "      <td>27.98</td>\n",
       "      <td>-114.06</td>\n",
       "      <td>84</td>\n",
       "      <td>6.87</td>\n",
       "      <td>292.84</td>\n",
       "      <td>0</td>\n",
       "      <td>67</td>\n",
       "    </tr>\n",
       "    <tr>\n",
       "      <th>3</th>\n",
       "      <td>3</td>\n",
       "      <td>Ushuaia</td>\n",
       "      <td>-54.80</td>\n",
       "      <td>-68.30</td>\n",
       "      <td>74</td>\n",
       "      <td>2.10</td>\n",
       "      <td>271.15</td>\n",
       "      <td>0</td>\n",
       "      <td>28</td>\n",
       "    </tr>\n",
       "    <tr>\n",
       "      <th>4</th>\n",
       "      <td>4</td>\n",
       "      <td>Albany</td>\n",
       "      <td>42.60</td>\n",
       "      <td>-73.97</td>\n",
       "      <td>83</td>\n",
       "      <td>5.12</td>\n",
       "      <td>292.01</td>\n",
       "      <td>100</td>\n",
       "      <td>65</td>\n",
       "    </tr>\n",
       "    <tr>\n",
       "      <th>...</th>\n",
       "      <td>...</td>\n",
       "      <td>...</td>\n",
       "      <td>...</td>\n",
       "      <td>...</td>\n",
       "      <td>...</td>\n",
       "      <td>...</td>\n",
       "      <td>...</td>\n",
       "      <td>...</td>\n",
       "      <td>...</td>\n",
       "    </tr>\n",
       "    <tr>\n",
       "      <th>564</th>\n",
       "      <td>564</td>\n",
       "      <td>Pánuco</td>\n",
       "      <td>22.05</td>\n",
       "      <td>-98.17</td>\n",
       "      <td>72</td>\n",
       "      <td>5.70</td>\n",
       "      <td>288.15</td>\n",
       "      <td>90</td>\n",
       "      <td>58</td>\n",
       "    </tr>\n",
       "    <tr>\n",
       "      <th>565</th>\n",
       "      <td>565</td>\n",
       "      <td>Antoniny</td>\n",
       "      <td>49.81</td>\n",
       "      <td>26.88</td>\n",
       "      <td>89</td>\n",
       "      <td>0.96</td>\n",
       "      <td>285.98</td>\n",
       "      <td>84</td>\n",
       "      <td>55</td>\n",
       "    </tr>\n",
       "    <tr>\n",
       "      <th>566</th>\n",
       "      <td>566</td>\n",
       "      <td>Ust-Maya</td>\n",
       "      <td>60.42</td>\n",
       "      <td>134.53</td>\n",
       "      <td>35</td>\n",
       "      <td>2.30</td>\n",
       "      <td>301.65</td>\n",
       "      <td>94</td>\n",
       "      <td>83</td>\n",
       "    </tr>\n",
       "    <tr>\n",
       "      <th>567</th>\n",
       "      <td>567</td>\n",
       "      <td>Itagi</td>\n",
       "      <td>-14.16</td>\n",
       "      <td>-40.01</td>\n",
       "      <td>93</td>\n",
       "      <td>1.92</td>\n",
       "      <td>292.19</td>\n",
       "      <td>88</td>\n",
       "      <td>66</td>\n",
       "    </tr>\n",
       "    <tr>\n",
       "      <th>568</th>\n",
       "      <td>568</td>\n",
       "      <td>Sioux Lookout</td>\n",
       "      <td>50.10</td>\n",
       "      <td>-91.92</td>\n",
       "      <td>72</td>\n",
       "      <td>3.10</td>\n",
       "      <td>292.15</td>\n",
       "      <td>20</td>\n",
       "      <td>66</td>\n",
       "    </tr>\n",
       "  </tbody>\n",
       "</table>\n",
       "<p>569 rows × 9 columns</p>\n",
       "</div>"
      ],
      "text/plain": [
       "     Unnamed: 0            City  Latitude  Longitude  Humidity  Wind_Speed  \\\n",
       "0             0     Port Alfred    -33.59      26.89        39        3.12   \n",
       "1             1           Yatou     37.15     122.38        60        5.11   \n",
       "2             2  Guerrero Negro     27.98    -114.06        84        6.87   \n",
       "3             3         Ushuaia    -54.80     -68.30        74        2.10   \n",
       "4             4          Albany     42.60     -73.97        83        5.12   \n",
       "..          ...             ...       ...        ...       ...         ...   \n",
       "564         564          Pánuco     22.05     -98.17        72        5.70   \n",
       "565         565        Antoniny     49.81      26.88        89        0.96   \n",
       "566         566        Ust-Maya     60.42     134.53        35        2.30   \n",
       "567         567           Itagi    -14.16     -40.01        93        1.92   \n",
       "568         568   Sioux Lookout     50.10     -91.92        72        3.10   \n",
       "\n",
       "     TemperatureK  Cloudiness  Temperature  \n",
       "0          286.64           0           56  \n",
       "1          298.78          46           78  \n",
       "2          292.84           0           67  \n",
       "3          271.15           0           28  \n",
       "4          292.01         100           65  \n",
       "..            ...         ...          ...  \n",
       "564        288.15          90           58  \n",
       "565        285.98          84           55  \n",
       "566        301.65          94           83  \n",
       "567        292.19          88           66  \n",
       "568        292.15          20           66  \n",
       "\n",
       "[569 rows x 9 columns]"
      ]
     },
     "execution_count": 56,
     "metadata": {},
     "output_type": "execute_result"
    }
   ],
   "source": [
    "#Reading From CSV file\n",
    "city_data=pd.read_csv('output_data\\city_data.csv')\n",
    "city_data"
   ]
  },
  {
   "cell_type": "markdown",
   "metadata": {},
   "source": [
    "## Plotting the Data\n",
    "* Use proper labeling of the plots using plot titles (including date of analysis) and axes labels.\n",
    "* Save the plotted figures as .pngs."
   ]
  },
  {
   "cell_type": "markdown",
   "metadata": {},
   "source": [
    "## Latitude vs. Temperature Plot"
   ]
  },
  {
   "cell_type": "code",
   "execution_count": 33,
   "metadata": {},
   "outputs": [
    {
     "data": {
      "image/png": "[encoded data removed]",
      "text/plain": [
       "<Figure size 360x360 with 1 Axes>"
      ]
     },
     "metadata": {
      "needs_background": "light"
     },
     "output_type": "display_data"
    }
   ],
   "source": [
    "plt.figure(figsize=(5,5))\n",
    "plt.scatter(city_data.Latitude,city_data.Temperature)\n",
    "plt.title(f'City Latitude vs. Temperature on 13/07/2020')\n",
    "plt.xlabel('Latitude')\n",
    "plt.ylabel('Temperature (F)')\n",
    "plt.savefig('output_data\\lat_vs_temp.png')\n",
    "plt.show()"
   ]
  },
  {
   "cell_type": "markdown",
   "metadata": {},
   "source": [
    "This Scatter plot shows the relation between Latitude and Temperature on the data was retrieved from 'OpenWeather' website. It shows as we are going to the Equator the Temperatuer is going high too. The highest Temperature are around Latitude '0'.  "
   ]
  },
  {
   "cell_type": "markdown",
   "metadata": {},
   "source": [
    "## Latitude vs. Humidity Plot"
   ]
  },
  {
   "cell_type": "code",
   "execution_count": 34,
   "metadata": {},
   "outputs": [
    {
     "data": {
      "image/png": "[encoded data removed]",
      "text/plain": [
       "<Figure size 504x504 with 1 Axes>"
      ]
     },
     "metadata": {
      "needs_background": "light"
     },
     "output_type": "display_data"
    }
   ],
   "source": [
    "plt.figure(figsize=(7,7))\n",
    "plt.scatter(city_data.Latitude,city_data.Humidity)\n",
    "plt.title(f'City Latitude vs. Humidity on 13/07/2020')\n",
    "plt.xlabel('Latitude')\n",
    "plt.ylabel('Humidity %')\n",
    "plt.savefig('output_data\\lat_vs_hum.png')\n",
    "plt.show()"
   ]
  },
  {
   "cell_type": "markdown",
   "metadata": {},
   "source": [
    "This Scatter plot shows the potential relation between Latitude and Temperature on the data. It shows most of the cities have the Humidity more than 60 and the cities around Equator have a high Humidity. There is no obvious correlation between Humidity and Latitude."
   ]
  },
  {
   "cell_type": "markdown",
   "metadata": {},
   "source": [
    "## Latitude vs. Cloudiness Plot"
   ]
  },
  {
   "cell_type": "code",
   "execution_count": 35,
   "metadata": {},
   "outputs": [
    {
     "data": {
      "image/png": "[encoded data removed]",
      "text/plain": [
       "<Figure size 504x504 with 1 Axes>"
      ]
     },
     "metadata": {
      "needs_background": "light"
     },
     "output_type": "display_data"
    }
   ],
   "source": [
    "plt.figure(figsize=(7,7))\n",
    "plt.scatter(city_data.Latitude,city_data.Cloudiness)\n",
    "plt.title(f'City Latitude vs. Cloudiness on 13/07/2020')\n",
    "plt.xlabel('Latitude')\n",
    "plt.ylabel('Cloudiness %')\n",
    "plt.savefig('output_data\\lat_vs_cloud.png')\n",
    "plt.show()"
   ]
  },
  {
   "cell_type": "markdown",
   "metadata": {},
   "source": [
    "This Scatter plot shows the potential relation between Latitude and Cloudiness on the data.It seems there is not a relation between Cloudiness and Latitude. "
   ]
  },
  {
   "cell_type": "markdown",
   "metadata": {},
   "source": [
    "## Latitude vs. Wind Speed Plot"
   ]
  },
  {
   "cell_type": "code",
   "execution_count": 36,
   "metadata": {},
   "outputs": [
    {
     "data": {
      "image/png": "[encoded data removed]",
      "text/plain": [
       "<Figure size 504x504 with 1 Axes>"
      ]
     },
     "metadata": {
      "needs_background": "light"
     },
     "output_type": "display_data"
    }
   ],
   "source": [
    "plt.figure(figsize=(7,7))\n",
    "plt.scatter(city_data.Latitude,city_data.Wind_Speed)\n",
    "\n",
    "plt.title(f'City Latitude vs. Wind Speed on 13/07/2020')\n",
    "plt.xlabel('Latitude')\n",
    "plt.ylabel('Wind_Speed')\n",
    "plt.savefig('output_data\\lat_vs_wind.png')\n",
    "\n",
    "plt.show()\n"
   ]
  },
  {
   "cell_type": "markdown",
   "metadata": {},
   "source": [
    "This Scatter plot shows the potential relation between Latitude and Wind speed on the data.It shows most of the cities have a wind speed less than 4Mph but Thers is not a clear relation between Wind Speed and Latitude."
   ]
  },
  {
   "cell_type": "markdown",
   "metadata": {},
   "source": [
    "## Linear Regression"
   ]
  },
  {
   "cell_type": "code",
   "execution_count": 57,
   "metadata": {},
   "outputs": [],
   "source": [
    "# OPTIONAL: Create a function to create Linear Regression plots\n",
    "\n",
    "def LR (X,Y):\n",
    "    (slope, intercept, rvalue, pvalue, stderr) = linregress(X,Y)\n",
    "    regress_values = X * slope + intercept\n",
    "    line_eq = \"y = \" + str(round(slope,3)) + \"x + \" + str(round(intercept,2))\n",
    "    return line_eq , regress_values\n",
    "    \n"
   ]
  },
  {
   "cell_type": "code",
   "execution_count": 58,
   "metadata": {},
   "outputs": [],
   "source": [
    "# Create Northern and Southern Hemisphere DataFrames\n",
    "Northen_data=city_data.loc[city_data.Latitude>=0]\n",
    "#Northen_data\n",
    "Southern_data=city_data.loc[city_data.Latitude<0]\n",
    "#Southern_data"
   ]
  },
  {
   "cell_type": "markdown",
   "metadata": {},
   "source": [
    "####  Northern Hemisphere - Temp vs. Latitude Linear Regression"
   ]
  },
  {
   "cell_type": "code",
   "execution_count": 50,
   "metadata": {
    "scrolled": true
   },
   "outputs": [
    {
     "data": {
      "image/png": "[encoded data removed]",
      "text/plain": [
       "<Figure size 504x504 with 1 Axes>"
      ]
     },
     "metadata": {
      "needs_background": "light"
     },
     "output_type": "display_data"
    },
    {
     "name": "stdout",
     "output_type": "stream",
     "text": [
      "y = -0.458x + 87.21\n"
     ]
    }
   ],
   "source": [
    "plt.figure(figsize=(7,7))\n",
    "\n",
    "\n",
    "y_values=Northen_data.Temperature\n",
    "x_values=Northen_data.Latitude\n",
    "(line_eq , regress_values)= LR (x_values,y_values)\n",
    "\n",
    "plt.scatter(x_values,y_values)\n",
    "plt.title('City Temperature vs. Latitude in Northern Hemisphere on 13/07/2020')\n",
    "plt.plot(x_values,regress_values,\"r-\")\n",
    "\n",
    "plt.xlabel('Latitude')\n",
    "plt.ylabel('Temperature')\n",
    "plt.annotate(line_eq,(20,50),fontsize=20,color=\"red\")\n",
    "plt.savefig('output_data\\latvstemp_n.png')\n",
    "\n",
    "plt.show()\n",
    "\n",
    "print (line_eq)b"
   ]
  },
  {
   "cell_type": "markdown",
   "metadata": {},
   "source": [
    "As we mentioned in general before, there is a strong negetive correlation between Temp and Latitude in Northern Hemisphere. The maximum tempertures were recorded close to the Equator (Lat=0)"
   ]
  },
  {
   "cell_type": "markdown",
   "metadata": {},
   "source": [
    "####  Southern Hemisphere - Temp vs. Latitude Linear Regression"
   ]
  },
  {
   "cell_type": "code",
   "execution_count": 51,
   "metadata": {},
   "outputs": [
    {
     "data": {
      "image/png": "[encoded data removed]",
      "text/plain": [
       "<Figure size 504x504 with 1 Axes>"
      ]
     },
     "metadata": {
      "needs_background": "light"
     },
     "output_type": "display_data"
    },
    {
     "name": "stdout",
     "output_type": "stream",
     "text": [
      "y = 0.829x + 79.71\n"
     ]
    }
   ],
   "source": [
    "plt.figure(figsize=(7,7))\n",
    "\n",
    "\n",
    "y_values=Southern_data.Temperature\n",
    "x_values=Southern_data.Latitude\n",
    "(line_eq , regress_values)= LR (x_values,y_values)\n",
    "\n",
    "plt.scatter(x_values,y_values)\n",
    "plt.title('City Temperature vs. Latitude in Southern Hemisphere on 13/07/2020')\n",
    "plt.plot(x_values,regress_values,\"r-\")\n",
    "\n",
    "plt.xlabel('Latitude')\n",
    "plt.ylabel('Temperature')\n",
    "plt.annotate(line_eq,(-50,34),fontsize=10,color=\"red\")\n",
    "plt.savefig('output_data\\latvstemp_s.png')\n",
    "\n",
    "plt.show()\n",
    "print (line_eq)"
   ]
  },
  {
   "cell_type": "markdown",
   "metadata": {},
   "source": [
    "This scatter plot showes again there is a strong positive correlation between Temp and Latitude in Southern Hemisphere. Same as Northen Hemisphere the maximum tempertures were recorded close to the Equator (Lat=0)"
   ]
  },
  {
   "cell_type": "markdown",
   "metadata": {},
   "source": [
    "####  Northern Hemisphere - Humidity (%) vs. Latitude Linear Regression"
   ]
  },
  {
   "cell_type": "code",
   "execution_count": 52,
   "metadata": {},
   "outputs": [
    {
     "data": {
      "image/png": "[encoded data removed]",
      "text/plain": [
       "<Figure size 504x504 with 1 Axes>"
      ]
     },
     "metadata": {
      "needs_background": "light"
     },
     "output_type": "display_data"
    },
    {
     "name": "stdout",
     "output_type": "stream",
     "text": [
      "y = -0.044x + 73.2\n"
     ]
    }
   ],
   "source": [
    "plt.figure(figsize=(7,7))\n",
    "\n",
    "\n",
    "y_values=Northen_data.Humidity\n",
    "x_values=Northen_data.Latitude\n",
    "(line_eq , regress_values)= LR (x_values,y_values)\n",
    "\n",
    "plt.scatter(x_values,y_values)\n",
    "plt.title('City Humidity vs. Latitude in Northern Hemisphere on 13/07/2020')\n",
    "plt.plot(x_values,regress_values,\"r-\")\n",
    "\n",
    "plt.xlabel('Latitude')\n",
    "plt.ylabel('Humidity %')\n",
    "plt.annotate(line_eq,(70,60),fontsize=10,color=\"red\")\n",
    "plt.savefig('output_data\\latvshum_n.png')\n",
    "\n",
    "plt.show()\n",
    "print (line_eq)"
   ]
  },
  {
   "cell_type": "markdown",
   "metadata": {},
   "source": [
    "This plot shows the relationship between  Humidity and Latitude in Northen Hemisphere. there is a tiny slight trend on Humidity by going thowards the Equator."
   ]
  },
  {
   "cell_type": "markdown",
   "metadata": {},
   "source": [
    "####  Southern Hemisphere - Humidity (%) vs. Latitude Linear Regression"
   ]
  },
  {
   "cell_type": "code",
   "execution_count": 53,
   "metadata": {},
   "outputs": [
    {
     "data": {
      "image/png": "[encoded data removed]",
      "text/plain": [
       "<Figure size 504x504 with 1 Axes>"
      ]
     },
     "metadata": {
      "needs_background": "light"
     },
     "output_type": "display_data"
    },
    {
     "name": "stdout",
     "output_type": "stream",
     "text": [
      "y = -0.036x + 71.08\n"
     ]
    }
   ],
   "source": [
    "plt.figure(figsize=(7,7))\n",
    "\n",
    "\n",
    "y_values=Southern_data.Humidity\n",
    "x_values=Southern_data.Latitude\n",
    "(line_eq , regress_values)= LR (x_values,y_values)\n",
    "\n",
    "plt.scatter(x_values,y_values)\n",
    "plt.title('City Humidity vs. Latitude in Southern Hemisphere on 13/07/2020')\n",
    "plt.plot(x_values,regress_values,\"r-\")\n",
    "\n",
    "plt.xlabel('Latitude')\n",
    "plt.ylabel('Humidity %')\n",
    "plt.annotate(line_eq,(-50,60),fontsize=10,color=\"red\")\n",
    "plt.savefig('output_data\\latvshum_s.png')\n",
    "\n",
    "plt.show()\n",
    "print (line_eq)"
   ]
  },
  {
   "cell_type": "markdown",
   "metadata": {},
   "source": [
    "This plot shows the relationship between  Humidity and Latitude in Southern Hemisphere. there is a tiny slight trend on Humidity by going thowards the Equator."
   ]
  },
  {
   "cell_type": "markdown",
   "metadata": {},
   "source": [
    "####  Northern Hemisphere - Cloudiness (%) vs. Latitude Linear Regression"
   ]
  },
  {
   "cell_type": "code",
   "execution_count": 54,
   "metadata": {},
   "outputs": [
    {
     "data": {
      "image/png": "[encoded data removed]",
      "text/plain": [
       "<Figure size 504x504 with 1 Axes>"
      ]
     },
     "metadata": {
      "needs_background": "light"
     },
     "output_type": "display_data"
    },
    {
     "name": "stdout",
     "output_type": "stream",
     "text": [
      "y = -0.007x + 52.69\n"
     ]
    }
   ],
   "source": [
    "plt.figure(figsize=(7,7))\n",
    "\n",
    "\n",
    "y_values=Northen_data.Cloudiness\n",
    "x_values=Northen_data.Latitude\n",
    "(line_eq , regress_values)= LR (x_values,y_values)\n",
    "\n",
    "plt.scatter(x_values,y_values)\n",
    "plt.title('City Cloudiness vs. Latitude in Northern Hemisphere on 13/07/2020')\n",
    "plt.plot(x_values,regress_values,\"r-\")\n",
    "\n",
    "plt.xlabel('Latitude')\n",
    "plt.ylabel('Cloudiness %')\n",
    "plt.annotate(line_eq,(-0,42),fontsize=10,color=\"red\")\n",
    "plt.savefig('output_data\\latvsCloud_n.png')\n",
    "\n",
    "plt.show()\n",
    "print (line_eq)"
   ]
  },
  {
   "cell_type": "markdown",
   "metadata": {},
   "source": [
    "This plot shows the relationship between Cloudiness and Latitude in Northen Hemisphere. The reression shows the cloudiness has a little dependency with Latitude which we can ignore (just=0.007)  "
   ]
  },
  {
   "cell_type": "markdown",
   "metadata": {},
   "source": [
    "####  Southern Hemisphere - Cloudiness (%) vs. Latitude Linear Regression"
   ]
  },
  {
   "cell_type": "code",
   "execution_count": 55,
   "metadata": {},
   "outputs": [
    {
     "data": {
      "image/png": "[encoded data removed]",
      "text/plain": [
       "<Figure size 504x504 with 1 Axes>"
      ]
     },
     "metadata": {
      "needs_background": "light"
     },
     "output_type": "display_data"
    },
    {
     "name": "stdout",
     "output_type": "stream",
     "text": [
      "y = 0.296x + 43.4\n"
     ]
    }
   ],
   "source": [
    "plt.figure(figsize=(7,7))\n",
    "\n",
    "\n",
    "y_values=Southern_data.Cloudiness\n",
    "x_values=Southern_data.Latitude\n",
    "(line_eq , regress_values)= LR (x_values,y_values)\n",
    "\n",
    "plt.scatter(x_values,y_values)\n",
    "plt.title('City Cloudiness vs. Latitude in Southern Hemisphere on 13/07/2020')\n",
    "plt.plot(x_values,regress_values,\"r-\")\n",
    "\n",
    "plt.xlabel('Latitude')\n",
    "plt.ylabel('Cloudiness %')\n",
    "plt.annotate(line_eq,(-50,42),fontsize=10,color=\"red\")\n",
    "plt.savefig('output_data\\latvsCloud_s.png')\n",
    "\n",
    "plt.show()\n",
    "print (line_eq)"
   ]
  },
  {
   "cell_type": "markdown",
   "metadata": {},
   "source": [
    "This plot shows the relationship between Cloudiness and Latitude in southern Hemisphere.Unlike the Northen Hemisphere, The reression shows the cloudiness has a more dependency with Latitud about 0.29 in Sothern Hemisphere."
   ]
  },
  {
   "cell_type": "markdown",
   "metadata": {},
   "source": [
    "####  Northern Hemisphere - Wind Speed (mph) vs. Latitude Linear Regression"
   ]
  },
  {
   "cell_type": "code",
   "execution_count": 60,
   "metadata": {},
   "outputs": [
    {
     "data": {
      "image/png": "[encoded data removed]",
      "text/plain": [
       "<Figure size 504x504 with 1 Axes>"
      ]
     },
     "metadata": {
      "needs_background": "light"
     },
     "output_type": "display_data"
    },
    {
     "name": "stdout",
     "output_type": "stream",
     "text": [
      "y = 0.0x + 3.37\n"
     ]
    }
   ],
   "source": [
    "plt.figure(figsize=(7,7))\n",
    "\n",
    "\n",
    "y_values=Northen_data.Wind_Speed\n",
    "x_values=Northen_data.Latitude\n",
    "(line_eq , regress_values)= LR (x_values,y_values)\n",
    "\n",
    "plt.scatter(x_values,y_values)\n",
    "plt.title('City Wind Speed vs. Latitude in Northern Hemisphere on 13/07/2020')\n",
    "plt.plot(x_values,regress_values,\"r-\")\n",
    "\n",
    "plt.xlabel('Latitude')\n",
    "plt.ylabel('Wind Speed')\n",
    "plt.annotate(line_eq,(0,4),fontsize=10,color=\"red\")\n",
    "plt.savefig('output_data\\latvsWind_n.png')\n",
    "\n",
    "\n",
    "plt.show()\n",
    "print (line_eq)"
   ]
  },
  {
   "cell_type": "markdown",
   "metadata": {},
   "source": [
    "This plot shows the relationship between Wind speed and Latitude in Northen Hemisphere. The reression shows , Although most of the cities have wind speed less than 4 , the cloudiness has not any correlation with Latitude. "
   ]
  },
  {
   "cell_type": "markdown",
   "metadata": {},
   "source": [
    "####  Southern Hemisphere - Wind Speed (mph) vs. Latitude Linear Regression"
   ]
  },
  {
   "cell_type": "code",
   "execution_count": 61,
   "metadata": {},
   "outputs": [
    {
     "data": {
      "image/png": "[encoded data removed]",
      "text/plain": [
       "<Figure size 504x504 with 1 Axes>"
      ]
     },
     "metadata": {
      "needs_background": "light"
     },
     "output_type": "display_data"
    },
    {
     "name": "stdout",
     "output_type": "stream",
     "text": [
      "y = -0.009x + 3.09\n"
     ]
    }
   ],
   "source": [
    "plt.figure(figsize=(7,7))\n",
    "\n",
    "\n",
    "y_values=Southern_data.Wind_Speed\n",
    "x_values=Southern_data.Latitude\n",
    "(line_eq , regress_values)= LR (x_values,y_values)\n",
    "\n",
    "plt.scatter(x_values,y_values)\n",
    "plt.title('City Wind Speed vs. Latitude in Southern Hemisphere on 13/07/2020')\n",
    "plt.plot(x_values,regress_values,\"r-\")\n",
    "\n",
    "plt.xlabel('Latitude')\n",
    "plt.ylabel('Wind Speed')\n",
    "plt.annotate(line_eq,(-50,6),fontsize=10,color=\"red\")\n",
    "plt.savefig('output_data\\latvsWind_s.png')\n",
    "\n",
    "\n",
    "plt.show()\n",
    "print (line_eq)"
   ]
  },
  {
   "cell_type": "markdown",
   "metadata": {},
   "source": [
    "This plot shows the relationship between Wind Speed and Latitude in southern Hemisphere.Unlike the Northen Hemisphere, The reression shows the Wind Speed has a a little correlation with Latitud in Sothern Hemisphere."
   ]
  },
  {
   "cell_type": "code",
   "execution_count": null,
   "metadata": {},
   "outputs": [],
   "source": []
  }
 ],
 "metadata": {
  "anaconda-cloud": {},
  "kernel_info": {
   "name": "python3"
  },
  "kernelspec": {
   "display_name": "Python 3",
   "language": "python",
   "name": "python3"
  },
  "language_info": {
   "codemirror_mode": {
    "name": "ipython",
    "version": 3
   },
   "file_extension": ".py",
   "mimetype": "text/x-python",
   "name": "python",
   "nbconvert_exporter": "python",
   "pygments_lexer": "ipython3",
   "version": "3.7.7"
  },
  "latex_envs": {
   "LaTeX_envs_menu_present": true,
   "autoclose": false,
   "autocomplete": true,
   "bibliofile": "biblio.bib",
   "cite_by": "apalike",
   "current_citInitial": 1,
   "eqLabelWithNumbers": true,
   "eqNumInitial": 1,
   "hotkeys": {
    "equation": "Ctrl-E",
    "itemize": "Ctrl-I"
   },
   "labels_anchors": false,
   "latex_user_defs": false,
   "report_style_numbering": false,
   "user_envs_cfg": false
  },
  "nteract": {
   "version": "0.12.3"
  }
 },
 "nbformat": 4,
 "nbformat_minor": 4
}
